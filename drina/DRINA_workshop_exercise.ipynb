{
 "cells": [
  {
   "cell_type": "markdown",
   "metadata": {},
   "source": [
    "# <center> Workshop - Introduction to the Climate-Land-Energy-Water systems (CLEWs) modelling framework and its use in the Nexus assessment of the Drina River Basin </center>\n",
    "\n",
    "<br>\n",
    "\n",
    "\n",
    "<font size=\"4\"> \n",
    "The aim of this session is to explore the functionalities offered by OSeMOSYS using the water-energy model of the Drina basin and some of its selected insights. <br>\n",
    "\n",
    "   \n",
    "In order to get the most from this session, we ask the participants to work actively with the group to answer the following questions.  <br>\n",
    "\n",
    "You will first be introduced to the model structure and familiarized with each scenario and its key assumptions before moving on to the questions. In this notebook, you will find all the information you need, and instructors are available for any further explanations you need. You simply need to read the notebook carefully. Feel free to ask for help if you still have questions. <br>\n",
    "\n",
    "The notebook is organized into two parts: <br>\n",
    "* Part 1: Description of the Drina water-energy model \n",
    "* Part 2: Scenario description and visualisations<br>\n",
    "    <br>\n",
    "    <br>\n",
    "    <br>\n",
    "    \n",
    "\n",
    "\n",
    "   ![DRINA River Basin](drina.png)\n",
    "\n"
   ]
  },
  {
   "cell_type": "code",
   "execution_count": null,
   "metadata": {},
   "outputs": [],
   "source": [
    "%run -i \"packages.py\""
   ]
  },
  {
   "cell_type": "code",
   "execution_count": null,
   "metadata": {},
   "outputs": [],
   "source": [
    "# code to hide the code cells \n",
    "# This line will hide code by default when the notebook is exported as HTML\n",
    "di.display_html('<script>jQuery(function() {if (jQuery(\"body.notebook_app\").length == 0) { jQuery(\".input_area\").toggle(); jQuery(\".prompt\").toggle();}});</script>', raw=True)\n",
    "\n",
    "# This line will add a button to toggle visibility of code blocks, for use with the HTML export version\n",
    "di.display_html('''<button onclick=\"jQuery('.input_area').toggle(); jQuery('.prompt').toggle();\">Toggle code</button>''', raw=True)\n"
   ]
  },
  {
   "cell_type": "code",
   "execution_count": null,
   "metadata": {},
   "outputs": [],
   "source": [
    "%run -i \"interim_process.py\"\n"
   ]
  },
  {
   "cell_type": "code",
   "execution_count": null,
   "metadata": {},
   "outputs": [],
   "source": [
    "%run -i \"plotting.py\"\n",
    "import warnings\n",
    "warnings.filterwarnings('ignore')"
   ]
  },
  {
   "cell_type": "markdown",
   "metadata": {},
   "source": [
    "# Part1: Background - Drina Model structure\n",
    "\n",
    "<br>\n",
    "<font size=\"4\">\n",
    "Under the framework of the Drina Nexus assessment an integrated water-energy model for the Drina countries was developed. The model represents the electricity system of the riparian countries, namely Bosnia and Herzegovina, Montenegro and Republic of Serbia and, in an aggregated fashion, electricity transmission infrastructure among the riparian countries and between them and neighbouring countries. The part of the model representing hydropower generation inside the basin is based on simplified modelling of the hydroelectric power plants and dams in the Drina River and its tributaries. This is done to ensure that water flows and constraints imposed on the electricity generation are properly represented. A long-term energy investment optimization model that calculates the least-cost energy supply mix to meet the electricity demands (built with the modelling framework OSeMOSYS) is used. \n",
    "\n",
    "###  <font color='green'>Which technologies were considered in the model?</font>\n",
    " \n",
    "The water-energy model of the Drina basin is actually a multi-country model that includes the entire electricity system of all the three riparian countries (Bosnia and Herzegovina, Montenegro and Republic of Serbia). <br>\n",
    "   \n",
    "This includes: <br>\n",
    "* All thermal power plants\n",
    "* All hydro power plants,\n",
    "* Other non-hydro renewables such as solar and wind,\n",
    "* Electricity trade inter-connectors (one for exports and one for imports for each cross-border connection)\n"
   ]
  },
  {
   "attachments": {},
   "cell_type": "markdown",
   "metadata": {},
   "source": [
    "### <font color='green'>How was the cascade in the Drina basin represented? </font> \n",
    "<br>\n",
    "\n",
    "<font size=\"4\">\n",
    "To explore the impact of the different proposed scenarios in the Drina basin, the cascade in the Drina river basin was detailed as shown in the following schematic. Power produced by the hydropower plants represented in the schematic feed into the energy systems of the three riparians.<br>\n",
    "<br>\n",
    "</font>\n",
    "\n",
    "![drina_cascade](cascade.JPG)"
   ]
  },
  {
   "attachments": {},
   "cell_type": "markdown",
   "metadata": {},
   "source": [
    "\n",
    "# Part 2: Scenarios and selected insights  <br>\n",
    "![scenario_drina](scenario_tree.png)\n",
    "\n",
    "<br>\n",
    "<font size=\"4\">\n",
    "    \n",
    "[Scenario 1: Reference ](#Scenario-1:-Reference)\n",
    "    \n",
    "[Scenario 2: Hydropower development ](#Scenario-2:-Hydropower-development)\n",
    "    \n",
    "[Scenario 3: Climate Change ](#Scenario-3:-Climate-Change)\n",
    "    \n",
    "[Scenario 4: Renewables ](#Scenario-4:-Renewables-RES)\n",
    "    \n",
    "[Scenario 5: Emission Trading Scheme implementation ](#Scenario-5:-Emission-Trading-Scheme-ETS)\n",
    "\n",
    "[Scenario 6: Ambitious climate policies ](#Scenario-6:-Ambitious-climate-policies-AMB)\n",
    "\n",
    "\n"
   ]
  },
  {
   "cell_type": "markdown",
   "metadata": {},
   "source": [
    "# Scenario 1: Reference\n",
    "\n",
    "<br>\n",
    "<font size=\"4\">\n",
    "It works as a reference scenario, where limited action occurs and no noticeable climate change occurs. It takes into account currently established policies and committed investments in power supply infrastructure. Since the plans for hydropower development in the Drina River Basin are not fully confirmed, no hydropower development is allowed in the basin.\n",
    "</font> "
   ]
  },
  {
   "cell_type": "markdown",
   "metadata": {},
   "source": [
    "## <font color='red'>Question1 </font> \n",
    "<br>\n",
    "<font size=\"4\">\n",
    "How is the role of hydro and non-hydro renewables expected to evolve in the reference scenario? What model assumptions do you think could be causing this?\n",
    "</font> "
   ]
  },
  {
   "cell_type": "code",
   "execution_count": null,
   "metadata": {},
   "outputs": [],
   "source": [
    "%run -i \"scenario1.py\""
   ]
  },
  {
   "cell_type": "markdown",
   "metadata": {},
   "source": [
    "# Scenario 2: Hydropower development\n",
    "\n",
    "<br>\n",
    "<font size=\"4\">\n",
    "It builds upon the reference scenario, with the assumption that three new hydropower plants are built by 2025, among those for which planning is at the most advanced state: Buk Bijela, Foča, and Paunci. These power plants are added to the cascade part of the model, where the technical characteristics such as the dam volumes, installed capacity and others are considered.\n",
    "</font> "
   ]
  },
  {
   "cell_type": "markdown",
   "metadata": {},
   "source": [
    "## <font color='red'>Question2 </font>  \n",
    "<br>\n",
    "<font size=\"4\">\n",
    "What impact on the current cascade do you think this expansion could have?\n",
    "</font>"
   ]
  },
  {
   "cell_type": "code",
   "execution_count": null,
   "metadata": {},
   "outputs": [],
   "source": [
    "%run -i \"scenario2.py\""
   ]
  },
  {
   "cell_type": "markdown",
   "metadata": {},
   "source": [
    "# Scenario 3: Climate Change\n",
    "<br>\n",
    "<font size=\"4\">\n",
    "For the CC scenario, three sub-scenarios are investigated, looking at three progressively harsher climate change scenarios: CC-RCP2.6, CC-RCP4.5, and CC-RCP8.5. These assume different Representative Concentration Pathways, respectively RCP 2.6, 4.5, and 8.5, with consequent different climate change impacts. The impact is modelled by varying the flows in all the river segments represented in the DRB hydropower cascade compared to the BAU scenario. For each RCP the intra-annual flow profiles were maintained the same across the entire time domain and equal to the 2011-2040 average of flows as obtained through the SWICCA dataset.\n",
    "</font> "
   ]
  },
  {
   "cell_type": "markdown",
   "metadata": {},
   "source": [
    "## <font color='red'>Question3 </font> \n",
    "<br>\n",
    "<font size=\"4\">\n",
    "Do you think the impact of climate change on the hydro power generation is significant? How do these changes in generation compare to other studies and your own experience? \n",
    "</font> "
   ]
  },
  {
   "cell_type": "code",
   "execution_count": null,
   "metadata": {},
   "outputs": [],
   "source": [
    "%run -i \"scenario3.py\"\n",
    "\n",
    "figsc3.show()"
   ]
  },
  {
   "cell_type": "markdown",
   "metadata": {},
   "source": [
    "# Scenario 4: Renewables RES\n",
    "<br>\n",
    "<font size=\"4\">\n",
    "Since the focus of this part of the nexus study is on hydropower and floods, in this scenario a new set of operational rules is suggested in order to improve the flood management in the basin. As known that the storage capacity in Spilje HPP and Fierza HPP are the main influencers on flood control, therefore new operational rules are studied on those two dams. The buffer volume in each dam is increased by (5%, 10%, 15% and 20%) in the wet season (from October to May). This sensitivity analysis allows exploration of the impact of different buffer volumes on both electricity generation and the flooded area downstream in comparison with the reference scenario (BAU). \n",
    "</font>"
   ]
  },
  {
   "cell_type": "markdown",
   "metadata": {},
   "source": [
    "# Scenario 5: Emission Trading Scheme ETS\n",
    "<br>\n",
    "<font size=\"4\">\n",
    "This scenario is created by modification of the BAU scenario: a carbon taxation scheme is included, to emulate the entrance of the countries in the ETS. All other assumptions are like in the BAU scenario. The scenario takes into account the free emissions under the cap-and-trade as well as the yearly decrease of the cap for an initial 5-year period upon entering the ETS. As of 2020, the only DRB riparian that has implemented the ETS is Montenegro. In their NDC, Serbia states that implementation of the ETS will occur in 2022. For Bosnia and Herzegovina, the implementation year was assumed 2024. The ETS price is assumed to become 80 EUR/tCO2 by 2040. \n",
    "</font>\n"
   ]
  },
  {
   "cell_type": "markdown",
   "metadata": {},
   "source": [
    "# Scenario 6: Ambitious climate policies (AMB)\n",
    "<br>\n",
    "<font size=\"4\">\n",
    "This scenario builds upon the ETS scenario, and the difference is in the specified annual demand for electricity and RES potential in the three riparian countries. Additionally, the amending Directive 2012/27/EU on energy efficiency require its MS to achieve cumulative end-use energy savings for the entire obligation period 2021 to 2030, equivalent to new annual savings of at least 0,8 % of final energy consumption. This demand reduction was applied to the final power demand for each of the riparians in form of a cumulative yearly reduction of 0.8%, while at the same time implementing the ETS and allowing higher capacities of RES technologies to be invested in by the model.  \n",
    "</font>\n"
   ]
  },
  {
   "cell_type": "markdown",
   "metadata": {},
   "source": [
    "## <font color='red'>Question4 </font> \n",
    "<br>\n",
    "<font size=\"4\">\n",
    "Is the impact of the increase of the buffer volume on the electricity generation significant? \n",
    "Can you elaborate on the costs and benefits of increasing the buffer volumes as a flood protection measure?\n",
    "</font>"
   ]
  },
  {
   "cell_type": "markdown",
   "metadata": {},
   "source": [
    "## <font color='red'>Question5 </font> \n",
    "<br>\n",
    "<font size=\"4\">\n",
    "Based on your expertise, do you believe that the assumed years of ETS implementation are valid? What benefit could the ETS bring to the riparians? Which factors will be needed to accommodate the increased installed capacity of intermittent renewables, which the scenario results suggest?\n",
    "</font>"
   ]
  },
  {
   "cell_type": "markdown",
   "metadata": {},
   "source": [
    "## <font color='red'>Question5 </font> \n",
    "<br>\n",
    "<font size=\"4\">\n",
    "Is the impact of the maximization of energy output on the electricity generation significant? Can you elaborate on the costs and benefits of maximizing energy output by the hydro power plants in the basin? is this a realistic scenario?\n",
    "</font>"
   ]
  },
  {
   "cell_type": "markdown",
   "metadata": {},
   "source": [
    "# END"
   ]
  },
  {
   "cell_type": "code",
   "execution_count": null,
   "metadata": {},
   "outputs": [],
   "source": []
  }
 ],
 "metadata": {
  "kernelspec": {
   "display_name": "Python 3",
   "language": "python",
   "name": "python3"
  },
  "language_info": {
   "codemirror_mode": {
    "name": "ipython",
    "version": 3
   },
   "file_extension": ".py",
   "mimetype": "text/x-python",
   "name": "python",
   "nbconvert_exporter": "python",
   "pygments_lexer": "ipython3",
   "version": "3.7.10"
  }
 },
 "nbformat": 4,
 "nbformat_minor": 2
}

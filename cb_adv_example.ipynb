{
 "cells": [
  {
   "cell_type": "code",
   "execution_count": null,
   "metadata": {},
   "outputs": [],
   "source": [
    "# Initiating the necessary packages\n",
    "import pandas as pd\n",
    "from plotly import express as ex\n",
    "import os"
   ]
  },
  {
   "cell_type": "markdown",
   "metadata": {},
   "source": [
    "# <span style=\"color:Green\"> OSeMOSYS based Energy systems optimization exercise </span>"
   ]
  },
  {
   "cell_type": "markdown",
   "metadata": {},
   "source": [
    "This exercise presents a slightly more advanced model than the one you built in the previous exercise. The model has already been created. Its structure looks like in the figure below. \n",
    "\n",
    "### <span style=\"color:Green\"> Reference Energy System </span>\n",
    "![Reference Energy System](CB_osemosys/res_advanced.png)\n",
    "\n",
    "\n",
    "\n",
    "\n",
    "There is again an electricity demand (this time constant between 2019 and 2023) and several power plant types compete to meet the demand, based on their cost: gas, coal, solar PV, wind and hydro. The hydro power plant, in order to work, is taking water from a dam, fed by a river. The relation between electricity generated and water flow in the turbine is the following:\n",
    "\n",
    "\\\\(Electricity = Density * Head * Mass Flow * Acceleration \\ due \\ to \\ gravity\\\\)\n",
    "\n",
    "Guided by the instructors, you will first look at the results of the model. Then, you will modify two parameters, in two different steps:\n",
    "\n",
    "-\tYou will introduce a yearly increase of the electricity demand.\n",
    "-\tYou will reduce the availability of water fed to the hydro power plant, imagining a situation of water scarcity.\n",
    "\n",
    "For each of the two cases, you will observe the results.\n",
    "\n",
    "The purpose of the exercise is to show how scenarios are created in OSeMOSYS, by modifying key parameters.\n",
    "\n",
    "\n",
    "\n"
   ]
  },
  {
   "cell_type": "markdown",
   "metadata": {},
   "source": [
    "<div class=\"alert alert-block alert-info\">\n",
    "<b>NOTE:</b> \n",
    "Now, before running this model, we will first look into the datafile. Please use this following link to open the file.\n",
    "<span style=\"color:Red;font-size:1em\"> <br> \n",
    "    We will only view the file. We will not edit it for the time being </span>\n",
    "</div>\n",
    "\n"
   ]
  },
  {
   "cell_type": "markdown",
   "metadata": {},
   "source": [
    "## <span style=\"color:Green\"> Click [here](../edit/CB_osemosys/ref/cb_adv1_datafile.txt) to view the file </span> "
   ]
  },
  {
   "cell_type": "markdown",
   "metadata": {},
   "source": [
    "## <span style=\"color:Green\"> Now, we will run the data file to visualise the results  </span> "
   ]
  },
  {
   "cell_type": "code",
   "execution_count": null,
   "metadata": {},
   "outputs": [],
   "source": [
    "#!otoole convert datapackage datafile ref/cb_adv1_data ref/cb_adv1_datafile.txt\n",
    "\n",
    "!glpsol -d CB_osemosys/ref/cb_adv1_datafile.txt -m CB_osemosys/osemosys.txt > CB_osemosys/osemosys.log"
   ]
  },
  {
   "cell_type": "code",
   "execution_count": null,
   "metadata": {},
   "outputs": [],
   "source": [
    "\n",
    "%run -i CB_osemosys/plotting.py"
   ]
  },
  {
   "cell_type": "markdown",
   "metadata": {},
   "source": [
    " ## <span style=\"color:Green\">Scenario 2: We introduce an increasing electricity demand  </span> \n",
    " \n",
    " #### <span style=\"color:Brown\"> We will increase the demand for each year by 25 Peta Joules. </span> \n",
    " #### <span style=\"color:Brown\">You will work with the paramter  </span>  <span style=\"color:Green\">  Specified Annual Demand.  </span>  \n"
   ]
  },
  {
   "cell_type": "markdown",
   "metadata": {},
   "source": [
    "<div class=\"alert alert-block alert-info\">\n",
    "<b>NOTE:</b> \n",
    "Do not forget to save the changes that you make to the demand parameter.\n",
    "</div>\n"
   ]
  },
  {
   "cell_type": "markdown",
   "metadata": {},
   "source": [
    "### <span style=\"color:Green\"> Click [here](../edit/CB_osemosys/high_dem/cb_adv2_datafile.txt) to enter the new electricity demand </span> "
   ]
  },
  {
   "cell_type": "code",
   "execution_count": null,
   "metadata": {},
   "outputs": [],
   "source": [
    "!glpsol -d CB_osemosys/high_dem/cb_adv2_datafile.txt -m CB_osemosys/osemosys.txt > CB_osemosys/osemosys.log"
   ]
  },
  {
   "cell_type": "code",
   "execution_count": null,
   "metadata": {},
   "outputs": [],
   "source": [
    "%run -i CB_osemosys/plotting.py"
   ]
  },
  {
   "cell_type": "markdown",
   "metadata": {},
   "source": [
    " ## <span style=\"color:Green\">Scenario 3: We introduce water scarcity constraints  </span> \n",
    " \n",
    " #### <span style=\"color:Brown\"> We will reduce the availability of water by XXXXXX (FRA to add number here)  </span> \n",
    " #### <span style=\"color:Brown\">You will work with the paramter </span>  <span style=\"color:Green\">  Total Technology Annual Activity Upper Limit.  </span>  \n"
   ]
  },
  {
   "cell_type": "markdown",
   "metadata": {},
   "source": [
    "<div class=\"alert alert-block alert-info\">\n",
    "<b>NOTE:</b> \n",
    "Do not forget to save the changes that you make to the demand parameter.\n",
    "</div>\n"
   ]
  },
  {
   "cell_type": "markdown",
   "metadata": {},
   "source": [
    "### <span style=\"color:Green\"> Click [here](../edit/CB_osemosys/water_scarc/cb_adv3_datafile.txt) to change water availability </span> "
   ]
  },
  {
   "cell_type": "code",
   "execution_count": null,
   "metadata": {},
   "outputs": [],
   "source": [
    "!glpsol -d CB_osemosys/water_scarc/cb_adv3_datafile.txt -m CB_osemosys/osemosys.txt > CB_osemosys/osemosys.log"
   ]
  },
  {
   "cell_type": "code",
   "execution_count": null,
   "metadata": {},
   "outputs": [],
   "source": [
    "%run -i CB_osemosys/plotting.py"
   ]
  }
 ],
 "metadata": {
  "kernelspec": {
   "display_name": "Python 3 (ipykernel)",
   "language": "python",
   "name": "python3"
  },
  "language_info": {
   "codemirror_mode": {
    "name": "ipython",
    "version": 3
   },
   "file_extension": ".py",
   "mimetype": "text/x-python",
   "name": "python",
   "nbconvert_exporter": "python",
   "pygments_lexer": "ipython3",
   "version": "3.9.5"
  }
 },
 "nbformat": 4,
 "nbformat_minor": 4
}

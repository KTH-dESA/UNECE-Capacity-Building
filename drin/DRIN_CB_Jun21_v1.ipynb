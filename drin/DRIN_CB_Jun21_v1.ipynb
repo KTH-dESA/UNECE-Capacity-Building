{
 "cells": [
  {
   "cell_type": "markdown",
   "metadata": {},
   "source": [
    "# <center> Drin Water-Energy integrated resource model </center>\n",
    "  ![DRIN River Basin](drin.png)\n",
    "\n"
   ]
  },
  {
   "cell_type": "code",
   "execution_count": null,
   "metadata": {},
   "outputs": [],
   "source": [
    "%run -i \"packages.py\""
   ]
  },
  {
   "cell_type": "code",
   "execution_count": null,
   "metadata": {},
   "outputs": [],
   "source": [
    "# code to hide the code cells \n",
    "# This line will hide code by default when the notebook is exported as HTML\n",
    "di.display_html('<script>jQuery(function() {if (jQuery(\"body.notebook_app\").length == 0) { jQuery(\".input_area\").toggle(); jQuery(\".prompt\").toggle();}});</script>', raw=True)\n",
    "\n",
    "# This line will add a button to toggle visibility of code blocks, for use with the HTML export version\n",
    "di.display_html('''<button onclick=\"jQuery('.input_area').toggle(); jQuery('.prompt').toggle();\">Toggle code</button>''', raw=True)\n"
   ]
  },
  {
   "cell_type": "code",
   "execution_count": null,
   "metadata": {},
   "outputs": [],
   "source": [
    "# Long code that take the CBC output files and filter the dataframes to take in only what is necessary.\n",
    "# Run only if necessary\n",
    "%run -i \"input_proces.py\""
   ]
  },
  {
   "cell_type": "code",
   "execution_count": null,
   "metadata": {},
   "outputs": [],
   "source": [
    "# Interim processes to create the final dataframe for plotting\n",
    "%run -i \"interim_proces.py\""
   ]
  },
  {
   "cell_type": "markdown",
   "metadata": {},
   "source": [
    "# Drin Model structure\n",
    "\n",
    "blah blah blah blah blah blah blah blah blah blah blah blah blah blah blah blah blah blah blah blah blah blah blah blah blah blah blah blah blah blah blah blah blah blah blah blah blah blah blah blah blah blah blah blah blah blah blah blah blah blah blah blah blah blah blah blah blah blah blah blah blah blah blah blah blah blah blah blah blah blah blah blah blah blah blah blah blah blah blah blah blah blah blah blah blah blah blah blah blah blah blah blah blah blah blah blah blah blah blah blah blah blah blah blah blah blah blah blah blah blah blah blah blah blah blah blah blah blah blah blah blah blah blah blah blah blah blah blah blah blah blah blah blah blah blah blah blah blah blah blah blah blah blah blah blah blah blah blah blah blah blah blah blah blah blah blah blah blah blah blah blah blah blah blah blah blah blah blah blah blah blah blah blah blah blah blah blah blah blah blah \n",
    "### Here we will have a brief introduction to the RES of the model and the different components of the system. ( I want a diagram of the RES, one of the entire system and one for the storage representation)\n",
    "\n",
    "#### We will also give some back ground on what we will do.  \n",
    "\n",
    "[Scenario 1](#Scenario-1-Climate-Change)blah\n",
    "\n",
    "[Scenario 1](#Scenario-1-Climate-Change) we will explore the \n"
   ]
  },
  {
   "cell_type": "code",
   "execution_count": null,
   "metadata": {},
   "outputs": [],
   "source": [
    "%run -i \"figure1.py\"\n",
    "fig"
   ]
  },
  {
   "cell_type": "code",
   "execution_count": null,
   "metadata": {},
   "outputs": [],
   "source": [
    "fig = px.bar(dff, x='year', y='value', color='scenario', facet_col='tech', facet_col_wrap=2, \n",
    "              labels={\"Value\": \"GWh\"}, title='Electricity generation under all scenarios', barmode='group',\n",
    "              facet_col_spacing=0.02)\n",
    "fig.for_each_annotation(lambda a: a.update(text=a.text.split(\"=\")[-1]))"
   ]
  },
  {
   "cell_type": "code",
   "execution_count": null,
   "metadata": {},
   "outputs": [],
   "source": [
    "fig = px.line(dff, x='year', y='value', color='scenario', facet_col='tech', facet_col_wrap=2, \n",
    "              labels={\"value\": \"GWh\"}, title='Electricity generation under all scenarios',\n",
    "              facet_col_spacing=0.05)\n",
    "fig.for_each_annotation(lambda a: a.update(text=a.text.split(\"=\")[-1]))"
   ]
  },
  {
   "cell_type": "markdown",
   "metadata": {},
   "source": [
    "# Scenario 1 Climate Change"
   ]
  },
  {
   "cell_type": "code",
   "execution_count": null,
   "metadata": {},
   "outputs": [],
   "source": [
    "dff = data"
   ]
  },
  {
   "cell_type": "code",
   "execution_count": null,
   "metadata": {},
   "outputs": [],
   "source": [
    "# Setting up the dataframe:\n",
    "\n",
    "df_cc = dff.loc[(dff['scenario']=='REF')|(dff['scenario']=='CC')]\n",
    "df_cc = df_cc.loc[(df_cc['tech']!='AL-Import')&(df_cc['tech']!='MK-Import')&(df_cc['tech']!='Skavica')]\n",
    "df_cc = df_cc.loc[(df_cc['year']==2030)|(df_cc['year']==2050)]\n",
    "df_cc = df_cc.groupby(['country','tech','year','scenario']).mean().reset_index()"
   ]
  },
  {
   "cell_type": "markdown",
   "metadata": {},
   "source": [
    "## CC scenario - Albania"
   ]
  },
  {
   "cell_type": "code",
   "execution_count": null,
   "metadata": {},
   "outputs": [],
   "source": [
    "# Generating summary table for specified years (2030 and 2050)\n",
    "al_cc = df_cc.loc[df_cc['country']=='Albania']\n",
    "al_cc_summary = al_cc.pivot(index=['tech','year'], columns='scenario', values='value').reset_index()\n",
    "al_cc_summary['Diff(REF-CC)'] = al_cc_summary['REF']-al_cc_summary['CC']\n",
    "al_cc_summary['Diff(%)'] = (al_cc_summary['Diff(REF-CC)']/al_cc_summary['REF']).round(3)*100\n",
    "#al_cc_summary['Diff(%)'].round(2)\n",
    "al_cc_summary"
   ]
  },
  {
   "cell_type": "code",
   "execution_count": null,
   "metadata": {},
   "outputs": [],
   "source": [
    "# Generating summary table for all years (2021 till 2050)\n",
    "df_cc_all = dff.loc[(dff['scenario']=='REF')|(dff['scenario']=='CC')]\n",
    "df_cc_all = df_cc_all.loc[(df_cc_all['tech']!='AL-Import')&(df_cc_all['tech']!='MK-Import')&(df_cc_all['tech']!='Skavica')]\n",
    "df_cc_all = df_cc_all.groupby(['country','tech','year','scenario']).mean().reset_index()\n",
    "al_cc_all = df_cc_all.loc[df_cc_all['country']=='Albania']\n",
    "\n",
    "al_cc_all_summary = al_cc_all.pivot(index=['tech','year'], columns='scenario', values='value').reset_index()\n",
    "al_cc_all_summary['Diff(REF-CC)'] = al_cc_all_summary['REF']-al_cc_all_summary['CC']\n",
    "\n",
    "al_cc_all_summary2 = al_cc_all_summary.groupby('tech')['Diff(REF-CC)'].mean().round(1).reset_index()\n",
    "al_cc_all_summary2.loc[\"Total\"] = al_cc_all_summary2.sum(numeric_only=True)\n",
    "al_cc_all_summary2"
   ]
  },
  {
   "cell_type": "markdown",
   "metadata": {},
   "source": [
    "# Show this"
   ]
  },
  {
   "cell_type": "code",
   "execution_count": null,
   "metadata": {},
   "outputs": [],
   "source": [
    "# See more on how to format the axes https://plotly.com/python/axes/ \n",
    "\n",
    "#al_cc = df_cc.loc[df_cc['country']=='Albania']\n",
    "\n",
    "graph_title='CC-Change in electricity generation in the Albanian cascade'\n",
    "\n",
    "fig = px.bar(al_cc, x='tech', y='value', text='value', color='scenario', facet_row=\"year\" , facet_col=\"country\", facet_col_wrap=2, \n",
    "              labels={\"value\": \"GWh\", \"tech\":\"HPP\"}, title=graph_title, barmode='group', \n",
    "             color_discrete_map={\n",
    "        'REF': 'blue',\n",
    "        'CC': 'lightblue'},\n",
    "            category_orders={\"scenario\": [\"REF\", \"CC\"]},\n",
    "              facet_col_spacing=0.05, facet_row_spacing=0.02 , height=600)\n",
    "\n",
    "fig.for_each_annotation(lambda a: a.update(text=a.text.split(\"=\")[-1]))\n",
    "fig.update_traces(texttemplate='%{text:.4s}', textposition='outside') #to format the text on each bar \n",
    "fig.update_layout(uniformtext_minsize=7, uniformtext_mode='hide') #to format the text on each bar\n",
    "\n",
    "fig.update_yaxes(range=[0, 2300]) #setting the y-axis scale to ensure enough space for the text on each bar\n",
    "fig.update_xaxes(showline=True, linewidth=2, linecolor='black', mirror=True) #drawing the border on x-axis\n",
    "fig.update_yaxes(showline=True, linewidth=2, linecolor='black', mirror=True) #drawing the border on y-axis\n",
    "\n",
    "#You can change the image extension to *.png if you want or keep it as pdf (for high resolution)\n",
    "output_folder = os.path.join('Results_graphics')\n",
    "os.makedirs(output_folder, exist_ok = True)\n",
    "\n",
    "#pio.write_image(fig, 'Results_graphics/{}.pdf'.format(graph_title))\n",
    "fig.show()"
   ]
  },
  {
   "cell_type": "code",
   "execution_count": null,
   "metadata": {},
   "outputs": [],
   "source": [
    "#Calculating the total change in Albania:\n",
    "\n",
    "al_cc = df_cc.loc[df_cc['country']=='Albania']\n",
    "al_cc2 = al_cc.groupby(['country','scenario', 'year']).sum().reset_index()\n",
    "al_cc2_summary = al_cc2.pivot(index='year', columns='scenario', values='value').reset_index()\n",
    "al_cc2_summary['Diff(REF-CC)'] = al_cc2_summary['REF']-al_cc2_summary['CC']\n",
    "al_cc2_summary"
   ]
  },
  {
   "cell_type": "markdown",
   "metadata": {},
   "source": [
    "# Show this"
   ]
  },
  {
   "cell_type": "code",
   "execution_count": null,
   "metadata": {},
   "outputs": [],
   "source": [
    "#al_cc = df_cc.loc[df_cc['country']=='Albania']\n",
    "#al_cc2 = al_cc.groupby(['country','scenario', 'year']).sum().reset_index()\n",
    "\n",
    "graph_title='CC- Total change in electricity generation in Albania'\n",
    "\n",
    "fig = px.bar(al_cc2, x='country', y='value', text='value', color='scenario', facet_row=\"year\" , facet_col=\"country\", facet_col_wrap=2, \n",
    "              labels={\"value\": \"GWh\", \"tech\":\"HPP\"}, title=graph_title, barmode='group',\n",
    "             color_discrete_map={\n",
    "        'REF': 'blue',\n",
    "        'CC': 'lightblue'},\n",
    "            category_orders={\"scenario\": [\"REF\", \"CC\"]},\n",
    "              facet_col_spacing=0.05, facet_row_spacing=0.02 , height=600)\n",
    "\n",
    "fig.for_each_annotation(lambda a: a.update(text=a.text.split(\"=\")[-1]))\n",
    "fig.update_traces(texttemplate='%{text:.4s}', textposition='outside') #to format the text on each bar\n",
    "fig.update_layout(uniformtext_minsize=7, uniformtext_mode='hide') #to format the text on each bar\n",
    "\n",
    "fig.update_yaxes(range=[0, 7000]) #setting the y-axis scale to ensure enough space for the text on each bar\n",
    "fig.update_xaxes(showline=True, linewidth=2, linecolor='black', mirror=True) #drawing the border on x-axis\n",
    "fig.update_yaxes(showline=True, linewidth=2, linecolor='black', mirror=True) #drawing the border on y-axis\n",
    "\n",
    "#You can change the image extension to *.png if you want or keep it as pdf (for high resolution)\n",
    "output_folder = os.path.join('Results_graphics')\n",
    "os.makedirs(output_folder, exist_ok = True)\n",
    "\n",
    "#pio.write_image(fig, 'Results_graphics/{}.pdf'.format(graph_title))\n",
    "fig.show()"
   ]
  },
  {
   "cell_type": "markdown",
   "metadata": {},
   "source": [
    "## CC scenario - N.Macedonia"
   ]
  },
  {
   "cell_type": "code",
   "execution_count": null,
   "metadata": {},
   "outputs": [],
   "source": [
    "# Generating summary table for specified years (2030 and 2050)\n",
    "mk_cc = df_cc.loc[df_cc['country']=='N.Macedonia']\n",
    "mk_cc_summary = mk_cc.pivot(index=['tech','year'], columns='scenario', values='value').reset_index()\n",
    "mk_cc_summary['Diff(REF-CC)'] = mk_cc_summary['REF']-mk_cc_summary['CC']\n",
    "mk_cc_summary['Diff(%)'] = (mk_cc_summary['Diff(REF-CC)']/mk_cc_summary['REF']).round(3)*100\n",
    "#mk_cc_summary['Diff(%)'].round(2)\n",
    "mk_cc_summary"
   ]
  },
  {
   "cell_type": "code",
   "execution_count": null,
   "metadata": {},
   "outputs": [],
   "source": [
    "# Generating summary table for all years (2021 till 2050)\n",
    "\n",
    "df_cc_all = dff.loc[(dff['scenario']=='REF')|(dff['scenario']=='CC')]\n",
    "df_cc_all = df_cc_all.loc[(df_cc_all['tech']!='AL-Import')&(df_cc_all['tech']!='MK-Import')&(df_cc_all['tech']!='Skavica')]\n",
    "df_cc_all = df_cc_all.groupby(['country','tech','year','scenario']).mean().reset_index()\n",
    "mk_cc_all = df_cc_all.loc[df_cc_all['country']=='N.Macedonia']\n",
    "\n",
    "mk_cc_all_summary = mk_cc_all.pivot(index=['tech','year'], columns='scenario', values='value').reset_index()\n",
    "mk_cc_all_summary['Diff(REF-CC)'] = mk_cc_all_summary['REF']-mk_cc_all_summary['CC']\n",
    "\n",
    "mk_cc_all_summary2 = mk_cc_all_summary.groupby('tech')['Diff(REF-CC)'].mean().round(1).reset_index()\n",
    "mk_cc_all_summary2.loc[\"Total\"] = mk_cc_all_summary2.sum(numeric_only=True)\n",
    "mk_cc_all_summary2"
   ]
  },
  {
   "cell_type": "markdown",
   "metadata": {},
   "source": [
    "# Show this"
   ]
  },
  {
   "cell_type": "code",
   "execution_count": null,
   "metadata": {},
   "outputs": [],
   "source": [
    "#mk_cc = df_cc.loc[df_cc['country']=='N.Macedonia']\n",
    "\n",
    "graph_title='CC-Change in electricity generation in the N.Macedonian cascade'\n",
    "\n",
    "fig = px.bar(mk_cc, x='tech', y='value', text='value', color='scenario', facet_row=\"year\" , facet_col=\"country\", facet_col_wrap=2, \n",
    "              labels={\"value\": \"GWh\", \"tech\":\"HPP\"}, title=graph_title, barmode='group',\n",
    "             color_discrete_map={\n",
    "        'REF': 'blue',\n",
    "        'CC': 'lightblue'},\n",
    "            category_orders={\"scenario\": [\"REF\", \"CC\"]},\n",
    "              facet_col_spacing=0.05, facet_row_spacing=0.02 , height=850)\n",
    "fig.for_each_annotation(lambda a: a.update(text=a.text.split(\"=\")[-1]))\n",
    "fig.update_traces(texttemplate='%{text:.4s}', textposition='outside') #to format the text on each bar\n",
    "fig.update_layout(uniformtext_minsize=7, uniformtext_mode='hide') #to format the text on each bar\n",
    "\n",
    "fig.update_yaxes(range=[0, 350]) #setting the y-axis scale to ensure enough space for the text on each bar\n",
    "fig.update_xaxes(showline=True, linewidth=2, linecolor='black', mirror=True) #drawing the border on x-axis\n",
    "fig.update_yaxes(showline=True, linewidth=2, linecolor='black', mirror=True) #drawing the border on y-axis\n",
    "\n",
    "#You can change the image extension to *.png if you want or keep it as pdf (for high resolution)\n",
    "output_folder = os.path.join('Results_graphics')\n",
    "os.makedirs(output_folder, exist_ok = True)\n",
    "\n",
    "#pio.write_image(fig, 'Results_graphics/{}.pdf'.format(graph_title))\n",
    "fig.show()"
   ]
  },
  {
   "cell_type": "code",
   "execution_count": null,
   "metadata": {},
   "outputs": [],
   "source": [
    "#Calculating the total change North Macedonia:\n",
    "\n",
    "mk_cc = df_cc.loc[df_cc['country']=='N.Macedonia']\n",
    "mk_cc2 = mk_cc.groupby(['country','scenario', 'year']).sum().reset_index()\n",
    "mk_cc2_summary = mk_cc2.pivot(index='year', columns='scenario', values='value').reset_index()\n",
    "mk_cc2_summary['Diff(REF-CC)'] = mk_cc2_summary['REF']-mk_cc2_summary['CC']\n",
    "mk_cc2_summary"
   ]
  },
  {
   "cell_type": "markdown",
   "metadata": {},
   "source": [
    "# Show this"
   ]
  },
  {
   "cell_type": "code",
   "execution_count": null,
   "metadata": {},
   "outputs": [],
   "source": [
    "#mk_cc = df_cc.loc[df_cc['country']=='N.Macedonia']\n",
    "#mk_cc2 = mk_cc.groupby(['country','scenario', 'year']).sum().reset_index()\n",
    "\n",
    "graph_title='CC- Total change in electricity generation in N.Macedonia'\n",
    "\n",
    "fig = px.bar(mk_cc2, x='country', y='value', text='value', color='scenario', facet_row=\"year\" , facet_col=\"country\", facet_col_wrap=2, \n",
    "              labels={\"value\": \"GWh\", \"tech\":\"HPP\"}, title=graph_title, barmode='group',\n",
    "             color_discrete_map={\n",
    "        'REF': 'blue',\n",
    "        'CC': 'lightblue'},\n",
    "            category_orders={\"scenario\": [\"REF\", \"CC\"]},\n",
    "              facet_col_spacing=0.05, facet_row_spacing=0.02 , height=600)\n",
    "\n",
    "fig.for_each_annotation(lambda a: a.update(text=a.text.split(\"=\")[-1]))\n",
    "fig.update_traces(texttemplate='%{text:.4s}', textposition='outside') #to format the text on each bar\n",
    "fig.update_layout(uniformtext_minsize=7, uniformtext_mode='hide') #to format the text on each bar\n",
    "\n",
    "fig.update_yaxes(range=[0, 700]) #setting the y-axis scale to ensure enough space for the text on each bar\n",
    "fig.update_xaxes(showline=True, linewidth=2, linecolor='black', mirror=True) #drawing the border on x-axis\n",
    "fig.update_yaxes(showline=True, linewidth=2, linecolor='black', mirror=True) #drawing the border on y-axis\n",
    "\n",
    "#You can change the image extension to *.png if you want or keep it as pdf (for high resolution)\n",
    "output_folder = os.path.join('Results_graphics')\n",
    "os.makedirs(output_folder, exist_ok = True)\n",
    "\n",
    "#pio.write_image(fig, 'Results_graphics/{}.pdf'.format(graph_title))\n",
    "fig.show()"
   ]
  },
  {
   "cell_type": "code",
   "execution_count": null,
   "metadata": {},
   "outputs": [],
   "source": [
    "#Saving Results"
   ]
  },
  {
   "cell_type": "code",
   "execution_count": null,
   "metadata": {},
   "outputs": [],
   "source": [
    "'''\n",
    "# Saving the summary tables\n",
    "results_path = os.path.join(homedir, 'Results_tables')\n",
    "os.makedirs(results_path, exist_ok=True)\n",
    "\n",
    "file_path=os.path.join(results_path, 'CC_summary_results.xlsx')\n",
    "writer = pd.ExcelWriter(file_path, engine='xlsxwriter') \n",
    "\n",
    "al_cc_summary.to_excel(writer, index=False, sheet_name='AL-HPP-selec')\n",
    "al_cc_all_summary.to_excel(writer, index=False, sheet_name='AL-HPP-all')\n",
    "al_cc_all_summary2.to_excel(writer, index=False, sheet_name='AL-HPP-tot')\n",
    "\n",
    "mk_cc_summary.to_excel(writer, index=False, sheet_name='MK-HPP-selec')\n",
    "mk_cc_all_summary.to_excel(writer, index=False, sheet_name='MK-HPP-all')\n",
    "mk_cc_all_summary2.to_excel(writer, index=False, sheet_name='Mk-HPP-tot')\n",
    "\n",
    "\n",
    "writer.save()\n",
    "'''"
   ]
  },
  {
   "cell_type": "markdown",
   "metadata": {},
   "source": [
    "# Skavica Graphs\n",
    "1. Show the change in electricity imports in albania \n",
    "2. show the change in total generation in the Drin basin\n",
    "3. show the change in each hpp along Drin. "
   ]
  },
  {
   "cell_type": "code",
   "execution_count": null,
   "metadata": {},
   "outputs": [],
   "source": [
    "dff = data\n",
    "scenarios"
   ]
  },
  {
   "cell_type": "code",
   "execution_count": null,
   "metadata": {},
   "outputs": [],
   "source": [
    "df_sk = dff.loc[(dff['scenario']=='ND_NO_SKAVICA')|(dff['scenario']=='ND_SKAVICA')]\n",
    "df_sk['scenario'].replace({\"ND_NO_SKAVICA\":\"No Skavica\", \"ND_SKAVICA\":\"With Skavica\"}, inplace=True)\n",
    "df_sk1 = df_sk.loc[(df_sk['country']=='Albania')&(df_sk['tech']!='AL-Import')]\n",
    "df_sk1 = df_sk1.groupby(['country','tech','year','scenario']).mean().reset_index()\n",
    "\n",
    "df_sk2 = df_sk.loc[(df_sk['country']=='Albania')&(df_sk['tech']=='AL-Import')]\n",
    "df_sk2 = df_sk2.groupby(['country','tech','year','scenario']).mean().reset_index()\n",
    "df_sk1"
   ]
  },
  {
   "cell_type": "code",
   "execution_count": null,
   "metadata": {},
   "outputs": [],
   "source": [
    "#df_sk1 = df_sk1.loc[df_cc['country']=='Albania']\n",
    "\n",
    "graph_title='ND- Impact of new Skavica dam'\n",
    "\n",
    "fig = px.line(df_sk1, x='year', y='value', color='scenario', facet_col='tech', facet_col_wrap=2, \n",
    "              labels={\"value\": \"GWh\", \"tech\":\"HPP\"}, title=graph_title,\n",
    "            category_orders={\"scenario\": [\"No Skavica\", \"With Skavica\"]},\n",
    "              facet_col_spacing=0.05, facet_row_spacing=0.02)\n",
    "\n",
    "#fig.for_each_annotation(lambda a: a.update(text=a.text.split(\"=\")[-1]))\n",
    "#fig.update_traces(texttemplate='%{text:.4s}', textposition='outside') #to format the text on each bar\n",
    "#fig.update_layout(uniformtext_minsize=7, uniformtext_mode='hide') #to format the text on each bar\n",
    "\n",
    "#fig.update_yaxes(range=[0, 2300]) #setting the y-axis scale to ensure enough space for the text on each bar\n",
    "#fig.update_xaxes(showline=True, linewidth=2, linecolor='black', mirror=True) #drawing the border on x-axis\n",
    "#fig.update_yaxes(showline=True, linewidth=2, linecolor='black', mirror=True) #drawing the border on y-axis\n",
    "\n",
    "#You can change the image extension to *.png if you want or keep it as pdf (for high resolution)\n",
    "output_folder = os.path.join('Results_graphics')\n",
    "os.makedirs(output_folder, exist_ok = True)\n",
    "\n",
    "#pio.write_image(fig, 'Results_graphics/{}.pdf'.format(graph_title))\n",
    "fig.show()"
   ]
  },
  {
   "cell_type": "code",
   "execution_count": null,
   "metadata": {},
   "outputs": [],
   "source": [
    "graph_title='ND- Impact of new Skavica dam'\n",
    "\n",
    "fig = px.bar(df_sk1, x='year', y='value', color='scenario', facet_col='tech', facet_col_wrap=2, barmode='group', \n",
    "              labels={\"value\": \"GWh\", \"tech\":\"HPP\"}, title=graph_title,\n",
    "            category_orders={\"scenario\": [\"No Skavica\", \"With Skavica\"]},\n",
    "              facet_col_spacing=0.05, facet_row_spacing=0.05)\n",
    "\n",
    "#fig.for_each_annotation(lambda a: a.update(text=a.text.split(\"=\")[-1]))\n",
    "#fig.update_traces(texttemplate='%{text:.4s}', textposition='outside') #to format the text on each bar\n",
    "#fig.update_layout(uniformtext_minsize=7, uniformtext_mode='hide') #to format the text on each bar\n",
    "\n",
    "#fig.update_yaxes(range=[0, 2300]) #setting the y-axis scale to ensure enough space for the text on each bar\n",
    "#fig.update_xaxes(showline=True, linewidth=2, linecolor='black', mirror=True) #drawing the border on x-axis\n",
    "#fig.update_yaxes(showline=True, linewidth=2, linecolor='black', mirror=True) #drawing the border on y-axis\n",
    "\n",
    "#You can change the image extension to *.png if you want or keep it as pdf (for high resolution)\n",
    "output_folder = os.path.join('Results_graphics')\n",
    "os.makedirs(output_folder, exist_ok = True)\n",
    "\n",
    "#pio.write_image(fig, 'Results_graphics/{}.pdf'.format(graph_title))\n",
    "fig.show()"
   ]
  },
  {
   "cell_type": "code",
   "execution_count": null,
   "metadata": {},
   "outputs": [],
   "source": [
    "#df_sk1 = df_sk1.loc[df_cc['country']=='Albania']\n",
    "\n",
    "graph_title='ND- Impact of new Skavica dam'\n",
    "\n",
    "fig = px.line(df_sk2, x='year', y='value', color='scenario', facet_col='tech', facet_col_wrap=2, \n",
    "              labels={\"value\": \"GWh\", \"tech\":\"HPP\"}, title=graph_title,\n",
    "            category_orders={\"scenario\": [\"No Skavica\", \"With Skavica\"]},\n",
    "              facet_col_spacing=0.05, facet_row_spacing=0.02)\n",
    "\n",
    "#fig.for_each_annotation(lambda a: a.update(text=a.text.split(\"=\")[-1]))\n",
    "#fig.update_traces(texttemplate='%{text:.4s}', textposition='outside') #to format the text on each bar\n",
    "#fig.update_layout(uniformtext_minsize=7, uniformtext_mode='hide') #to format the text on each bar\n",
    "\n",
    "#fig.update_yaxes(range=[0, 2300]) #setting the y-axis scale to ensure enough space for the text on each bar\n",
    "#fig.update_xaxes(showline=True, linewidth=2, linecolor='black', mirror=True) #drawing the border on x-axis\n",
    "#fig.update_yaxes(showline=True, linewidth=2, linecolor='black', mirror=True) #drawing the border on y-axis\n",
    "\n",
    "#You can change the image extension to *.png if you want or keep it as pdf (for high resolution)\n",
    "output_folder = os.path.join('Results_graphics')\n",
    "os.makedirs(output_folder, exist_ok = True)\n",
    "\n",
    "#pio.write_image(fig, 'Results_graphics/{}.pdf'.format(graph_title))\n",
    "fig.show()"
   ]
  },
  {
   "cell_type": "code",
   "execution_count": null,
   "metadata": {},
   "outputs": [],
   "source": [
    "# Generating the summary table for the annual savings in electricity imports in Albania:\n",
    "\n",
    "df_sk3 = df_sk2.loc[(df_sk2['year']>=2025)&(df_sk2['year']<=2050)]\n",
    "al_imp_annual = df_sk3.pivot(index='year' , columns='scenario', values='value').reset_index()\n",
    "al_imp_annual['Diff'] = al_imp_annual['No Skavica'] - al_imp_annual['With Skavica']\n",
    "al_imp_annual.loc['Total']=al_imp_annual[['No Skavica', 'With Skavica', 'Diff']].sum()\n",
    "\n",
    "df_sk2a = df_sk3.groupby(['scenario']).sum().reset_index()\n",
    "al_imp_annual"
   ]
  },
  {
   "cell_type": "markdown",
   "metadata": {},
   "source": [
    "# Show this "
   ]
  },
  {
   "cell_type": "code",
   "execution_count": null,
   "metadata": {},
   "outputs": [],
   "source": [
    "#df_sk1 = df_sk1.loc[df_cc['country']=='Albania']\n",
    "\n",
    "graph_title='Impact of new Skavica dam on annual elec.imports in AL'\n",
    "\n",
    "fig = px.bar(df_sk3, x='year', y='value', color='scenario', facet_col='tech', facet_col_wrap=2, barmode='group', \n",
    "              labels={\"value\": \"GWh\", \"tech\":\"HPP\"}, title=graph_title,\n",
    "            category_orders={\"scenario\": [\"No Skavica\", \"With Skavica\"]},\n",
    "              facet_col_spacing=0.05, facet_row_spacing=0.02)\n",
    "\n",
    "fig.for_each_annotation(lambda a: a.update(text=a.text.split(\"=\")[-1]))\n",
    "\n",
    "\n",
    "fig.update_yaxes(range=[1500, 4000]) #setting the y-axis scale to ensure good readability\n",
    "\n",
    "\n",
    "#You can change the image extension to *.png if you want or keep it as pdf (for high resolution)\n",
    "output_folder = os.path.join('Results_graphics')\n",
    "os.makedirs(output_folder, exist_ok = True)\n",
    "\n",
    "#pio.write_image(fig, 'Results_graphics/{}.pdf'.format(graph_title))\n",
    "fig.show()"
   ]
  },
  {
   "cell_type": "code",
   "execution_count": null,
   "metadata": {},
   "outputs": [],
   "source": [
    "df_sk2a = df_sk3.groupby(['scenario']).sum().reset_index()\n",
    "#df_sk2a.replace({\"ND_NO_SKAVICA\":\"No Skavica\",\"ND_SKAVICA\":\"With Skavica\" }, inplace= True)\n"
   ]
  },
  {
   "cell_type": "markdown",
   "metadata": {},
   "source": [
    "# Show this"
   ]
  },
  {
   "cell_type": "code",
   "execution_count": null,
   "metadata": {},
   "outputs": [],
   "source": [
    "graph_title='Cumulative savings in electricity impacts (2025-2050) in Albania'\n",
    "\n",
    "#df_sk2a = df_sk2.groupby(['scenario']).sum().round(2).reset_index()\n",
    "\n",
    "fig = px.bar(df_sk2a, x='scenario', y='value', text='value', color='scenario', facet_col_wrap=2, barmode='group', \n",
    "              labels={\"value\": \"GWh\", \"tech\":\"HPP\"}, title=graph_title,\n",
    "            category_orders={\"scenario\": [\"No Skavica\", \"With Skavica\"]},\n",
    "              facet_col_spacing=0.05, facet_row_spacing=0.02, width=700)\n",
    "\n",
    "fig.for_each_annotation(lambda a: a.update(text=a.text.split(\"=\")[-1]))\n",
    "fig.update_traces(texttemplate='%{text:.4s}', textposition='outside') #to format the text on each bar\n",
    "fig.update_layout(uniformtext_minsize=7, uniformtext_mode='hide') #to format the text on each bar\n",
    "\n",
    "fig.update_yaxes(range=[0, 110000]) #setting the y-axis scale to ensure enough space for the text on each bar\n",
    "\n",
    "#You can change the image extension to *.png if you want or keep it as pdf (for high resolution)\n",
    "output_folder = os.path.join('Results_graphics')\n",
    "os.makedirs(output_folder, exist_ok = True)\n",
    "\n",
    "#pio.write_image(fig, 'Results_graphics/{}.pdf'.format(graph_title))\n",
    "fig.show()"
   ]
  },
  {
   "cell_type": "markdown",
   "metadata": {},
   "source": [
    "# Flood protection scenario graphs\n",
    "\n",
    "1. regenerate the dataframes\n",
    "2. recreate the same graphs\n",
    "3. show better graphs/differences etc. "
   ]
  },
  {
   "cell_type": "code",
   "execution_count": null,
   "metadata": {},
   "outputs": [],
   "source": [
    "dff = data\n",
    "df_fp = dff.loc[(dff['scenario']=='REF')|(dff['scenario']=='FP_COOP05')|(dff['scenario']=='FP_COOP10')|(dff['scenario']=='FP_COOP15')|(dff['scenario']=='FP_COOP20')]\n",
    "df_fp = df_fp.loc[(df_fp['tech']!='AL-Import')&(df_fp['tech']!='MK-Import')]\n",
    "\n",
    "df_fp1 = df_fp.groupby(['country', 'tech', 'year', 'scenario']).mean().reset_index()\n",
    "df_fp1"
   ]
  },
  {
   "cell_type": "code",
   "execution_count": null,
   "metadata": {},
   "outputs": [],
   "source": [
    "graph_title='FP- Impact of the flood protection scenario'\n",
    "\n",
    "fig = px.bar(df_fp1, x='year', y='value', color='scenario', facet_col='tech', facet_col_wrap=2, barmode='group', \n",
    "              labels={\"value\": \"GWh\", \"tech\":\"HPP\"}, title=graph_title,\n",
    "            #category_orders={\"scenario\": [\"ND_NO_SKAVICA\", \"ND_SKAVICA\"]},\n",
    "              facet_col_spacing=0.05, facet_row_spacing=0.05)\n",
    "\n",
    "#fig.for_each_annotation(lambda a: a.update(text=a.text.split(\"=\")[-1]))\n",
    "#fig.update_traces(texttemplate='%{text:.4s}', textposition='outside') #to format the text on each bar\n",
    "#fig.update_layout(uniformtext_minsize=7, uniformtext_mode='hide') #to format the text on each bar\n",
    "\n",
    "#fig.update_yaxes(range=[0, 2300]) #setting the y-axis scale to ensure enough space for the text on each bar\n",
    "#fig.update_xaxes(showline=True, linewidth=2, linecolor='black', mirror=True) #drawing the border on x-axis\n",
    "#fig.update_yaxes(showline=True, linewidth=2, linecolor='black', mirror=True) #drawing the border on y-axis\n",
    "\n",
    "#You can change the image extension to *.png if you want or keep it as pdf (for high resolution)\n",
    "output_folder = os.path.join('Results_graphics')\n",
    "os.makedirs(output_folder, exist_ok = True)\n",
    "\n",
    "#pio.write_image(fig, 'Results_graphics/{}.pdf'.format(graph_title))\n",
    "fig.show()"
   ]
  },
  {
   "cell_type": "code",
   "execution_count": null,
   "metadata": {},
   "outputs": [],
   "source": [
    "#df_fp = dff.loc[(dff['scenario']=='FP_COOP05')\n",
    "df_fp2 = df_fp1.loc[(df_fp1['tech']=='Fierza')].reset_index()\n",
    "df_fp2"
   ]
  },
  {
   "cell_type": "code",
   "execution_count": null,
   "metadata": {},
   "outputs": [],
   "source": [
    "hpp = 'Fierza' # Specify the name of the hpp to print the graph\n",
    "graph_title='FP- Impact of the flood protection scenario on '+ hpp\n",
    "df_fp2 = df_fp1.loc[(df_fp1['tech']==hpp)].reset_index()\n",
    "\n",
    "fig = px.bar(df_fp2, x='year', y='value', color='scenario',barmode='group', \n",
    "              labels={\"value\": \"GWh\", \"tech\":\"HPP\"}, title=graph_title,\n",
    "              facet_col_spacing=0.05, facet_row_spacing=0.05)\n",
    "\n",
    "#fig.for_each_annotation(lambda a: a.update(text=a.text.split(\"=\")[-1]))\n",
    "#fig.update_traces(texttemplate='%{text:.4s}', textposition='outside') #to format the text on each bar\n",
    "#fig.update_layout(uniformtext_minsize=7, uniformtext_mode='hide') #to format the text on each bar\n",
    "\n",
    "#fig.update_yaxes(range=[0, 2300]) #setting the y-axis scale to ensure enough space for the text on each bar\n",
    "#fig.update_xaxes(showline=True, linewidth=2, linecolor='black', mirror=True) #drawing the border on x-axis\n",
    "#fig.update_yaxes(showline=True, linewidth=2, linecolor='black', mirror=True) #drawing the border on y-axis\n",
    "\n",
    "#You can change the image extension to *.png if you want or keep it as pdf (for high resolution)\n",
    "output_folder = os.path.join('Results_graphics')\n",
    "os.makedirs(output_folder, exist_ok = True)\n",
    "\n",
    "#pio.write_image(fig, 'Results_graphics/{}.pdf'.format(graph_title))\n",
    "fig.show()"
   ]
  },
  {
   "cell_type": "code",
   "execution_count": null,
   "metadata": {},
   "outputs": [],
   "source": [
    "# Setting up the dataframes to show the change in mean generation over the modeling period:\n",
    "\n",
    "df_fp_mean = df_fp1.groupby(['country','tech', 'scenario']).mean().round(0).reset_index().drop(['year'], axis=1)\n",
    "df_fp_mean = df_fp_mean.loc[df_fp_mean['tech']!='Skavica']\n",
    "df_fp_mean_al = df_fp_mean.loc[df_fp_mean['country']=='Albania']\n",
    "df_fp_mean_mk = df_fp_mean.loc[df_fp_mean['country']=='N.Macedonia']\n",
    "df_fp_mean_mk"
   ]
  },
  {
   "cell_type": "markdown",
   "metadata": {},
   "source": [
    "# Show this"
   ]
  },
  {
   "cell_type": "code",
   "execution_count": null,
   "metadata": {},
   "outputs": [],
   "source": [
    "# Generating the graphs for Albania\n",
    "\n",
    "graph_title = 'FP scenario - Change in mean electricity generation'\n",
    "\n",
    "fig = px.bar(df_fp_mean_al, x='tech', y='value', text='value', color='scenario',barmode='group', \n",
    "              labels={\"value\": \"GWh\", \"tech\":\"HPP\"}, title=graph_title,\n",
    "             category_orders={\"tech\":['Fierza', 'Koman', 'Vaudejas'], \n",
    "                             \"scenario\":['REF', 'FP_COOP05', 'FP_COOP10', 'FP_COOP15','FP_COOP20']},\n",
    "              facet_col_spacing=0.05, facet_row_spacing=0.05)\n",
    "\n",
    "fig.for_each_annotation(lambda a: a.update(text=a.text.split(\"=\")[-1]))\n",
    "fig.update_traces(texttemplate='%{text:.4s}', textposition='inside') #to format the text on each bar\n",
    "#fig.update_layout(uniformtext_minsize=7, uniformtext_mode='hide') #to format the text on each bar\n",
    "\n",
    "fig.update_yaxes(range=[1000, 3000]) #setting the y-axis scale to ensure enough space for the text on each bar\n",
    "#fig.update_xaxes(showline=True, linewidth=2, linecolor='black', mirror=True) #drawing the border on x-axis\n",
    "#fig.update_yaxes(showline=True, linewidth=2, linecolor='black', mirror=True) #drawing the border on y-axis\n",
    "\n",
    "#You can change the image extension to *.png if you want or keep it as pdf (for high resolution)\n",
    "output_folder = os.path.join('Results_graphics')\n",
    "os.makedirs(output_folder, exist_ok = True)\n",
    "\n",
    "#pio.write_image(fig, 'Results_graphics/{}.pdf'.format(graph_title))\n",
    "fig.show()"
   ]
  },
  {
   "cell_type": "markdown",
   "metadata": {},
   "source": [
    "# Show this :\n",
    "Note that we need to change the hpp to show the same graph for different hpps (Fierza and Spilje)"
   ]
  },
  {
   "cell_type": "code",
   "execution_count": null,
   "metadata": {},
   "outputs": [],
   "source": [
    "# Generating the graphs for selected years:\n",
    "\n",
    "hpp =  'Spilje' #The following graphs and table will be generated for this hpp\n",
    "\n",
    "df_fp_hpp = df_fp1.loc[(df_fp1['tech']==hpp)]\n",
    "df_fp_hpp1 = df_fp_hpp.loc[(df_fp_hpp['scenario']=='REF')|(df_fp_hpp['scenario']=='FP_COOP05')|(df_fp_hpp['scenario']=='FP_COOP20')]\n",
    "df_fp_hpp2 = df_fp_hpp1.loc[(df_fp_hpp1.year==2030)|(df_fp_hpp1.year==2040)|(df_fp_hpp1.year==2050)]\n",
    "\n",
    "#df_fp_hpp = df_fp1.loc[(df_fp1.year==selected_years)].reset_index()\n",
    "df_fp_hpp1"
   ]
  },
  {
   "cell_type": "code",
   "execution_count": null,
   "metadata": {},
   "outputs": [],
   "source": [
    "# Generating the graphs for Albania\n",
    "\n",
    "graph_title = 'FP scenario - Change in electricity generation from '+ hpp + ' under different opr. rules'\n",
    "\n",
    "fig = px.bar(df_fp_hpp2, x='year', y='value', text='value', color='scenario',barmode='group', \n",
    "              labels={\"value\": \"GWh\", \"tech\":\"HPP\"}, title=graph_title,\n",
    "             category_orders={\"tech\":['Fierza', 'Koman', 'Vaudejas'], \n",
    "                             \"scenario\":['REF', 'FP_COOP05', 'FP_COOP20']},\n",
    "              facet_col_spacing=0.05, facet_row_spacing=0.05)\n",
    "\n",
    "fig.for_each_annotation(lambda a: a.update(text=a.text.split(\"=\")[-1]))\n",
    "fig.update_traces(texttemplate='%{text:.4s}', textposition='inside') #to format the text on each bar\n",
    "#fig.update_layout(uniformtext_minsize=7, uniformtext_mode='hide') #to format the text on each bar\n",
    "\n",
    "fig.update_yaxes(range=[200, 350]) #setting the y-axis scale to ensure enough space for the text on each bar\n",
    "#fig.update_xaxes(showline=True, linewidth=2, linecolor='black', mirror=True) #drawing the border on x-axis\n",
    "#fig.update_yaxes(showline=True, linewidth=2, linecolor='black', mirror=True) #drawing the border on y-axis\n",
    "\n",
    "#You can change the image extension to *.png if you want or keep it as pdf (for high resolution)\n",
    "output_folder = os.path.join('Results_graphics')\n",
    "os.makedirs(output_folder, exist_ok = True)\n",
    "\n",
    "pio.write_image(fig, 'Results_graphics/{}.pdf'.format(graph_title))\n",
    "fig.show()"
   ]
  },
  {
   "cell_type": "code",
   "execution_count": null,
   "metadata": {},
   "outputs": [],
   "source": [
    "df_fp_hpp1_pvt = df_fp_hpp1.pivot(index='year' , columns='scenario' , values='value').round(3).reset_index()\n",
    "df_fp_hpp1_pvt['COOP05-REF'] = df_fp_hpp1_pvt['FP_COOP05'] - df_fp_hpp1_pvt['REF']\n",
    "df_fp_hpp1_pvt['(COOP05-REF)%'] = (df_fp_hpp1_pvt['COOP05-REF']/df_fp_hpp1_pvt['REF']).round(3)*100\n",
    "df_fp_hpp1_pvt['COOP20-REF'] = df_fp_hpp1_pvt['FP_COOP20'] - df_fp_hpp1_pvt['REF']\n",
    "df_fp_hpp1_pvt['(COOP20-REF)%'] = (df_fp_hpp1_pvt['COOP20-REF']/df_fp_hpp1_pvt['REF']).round(3)*100\n",
    "df_fp_hpp1_pvt.loc['Mean'] = df_fp_hpp1_pvt.mean()\n",
    "#df_fp_hpp1_pvt.loc['Total'] = df_fp_hpp1_pvt.sum()\n",
    "#df_fp_hpp1_pvt.round(3)\n",
    "df_fp_hpp1_pvt"
   ]
  },
  {
   "cell_type": "code",
   "execution_count": null,
   "metadata": {},
   "outputs": [],
   "source": []
  },
  {
   "cell_type": "markdown",
   "metadata": {},
   "source": [
    "# Energy Maximization scenario graphs\n",
    "\n",
    "1. regenerate the dataframes\n",
    "2. recreate the same graphs\n",
    "3. show better graphs/differences etc. "
   ]
  },
  {
   "cell_type": "code",
   "execution_count": null,
   "metadata": {},
   "outputs": [],
   "source": [
    "dff = data\n",
    "df_em = dff.loc[(dff['scenario']=='REF')|(dff['scenario']=='EO_ENGOPT2')]\n",
    "#df_em = df_fp.loc[(df_fp['tech']!='AL-Import')&(df_fp['tech']!='MK-Import')]\n",
    "df_em = df_em.groupby(['country', 'tech', 'year', 'scenario']).mean().reset_index()\n",
    "df_em.replace({\"EO_ENGOPT2\":\"Energy Max\",\"REF\":\"Reference\" }, inplace= True)\n",
    "df_em"
   ]
  },
  {
   "cell_type": "code",
   "execution_count": null,
   "metadata": {},
   "outputs": [],
   "source": [
    "graph_title='EM- Impact of the energy maximization scenario'\n",
    "\n",
    "fig = px.bar(df_em, x='year', y='value', color='scenario', facet_col='tech', facet_col_wrap=2, barmode='group', \n",
    "              labels={\"value\": \"GWh\", \"tech\":\"HPP\"}, title=graph_title,\n",
    "            category_orders={\"scenario\": [\"Reference\", \"Energy Max\"]},\n",
    "              facet_col_spacing=0.05, facet_row_spacing=0.05)\n",
    "\n",
    "#fig.for_each_annotation(lambda a: a.update(text=a.text.split(\"=\")[-1]))\n",
    "#fig.update_traces(texttemplate='%{text:.4s}', textposition='outside') #to format the text on each bar\n",
    "#fig.update_layout(uniformtext_minsize=7, uniformtext_mode='hide') #to format the text on each bar\n",
    "\n",
    "#fig.update_yaxes(range=[0, 2300]) #setting the y-axis scale to ensure enough space for the text on each bar\n",
    "#fig.update_xaxes(showline=True, linewidth=2, linecolor='black', mirror=True) #drawing the border on x-axis\n",
    "#fig.update_yaxes(showline=True, linewidth=2, linecolor='black', mirror=True) #drawing the border on y-axis\n",
    "\n",
    "#You can change the image extension to *.png if you want or keep it as pdf (for high resolution)\n",
    "output_folder = os.path.join('Results_graphics')\n",
    "os.makedirs(output_folder, exist_ok = True)\n",
    "\n",
    "#pio.write_image(fig, 'Results_graphics/{}.pdf'.format(graph_title))\n",
    "fig.show()"
   ]
  },
  {
   "cell_type": "markdown",
   "metadata": {},
   "source": [
    "# Show this:\n",
    "Note that I might add a new graph"
   ]
  },
  {
   "cell_type": "code",
   "execution_count": null,
   "metadata": {},
   "outputs": [],
   "source": [
    "hpp = 'AL-Import' # Specify the name of the hpp to print the graph\n",
    "graph_title='EM- Impact of the energy maximization scenario '+ hpp\n",
    "df_em1 = df_em.loc[(df_em['tech']==hpp)].reset_index()\n",
    "\n",
    "fig = px.bar(df_em1, x='year', y='value', color='scenario',barmode='group', \n",
    "              labels={\"value\": \"GWh\", \"tech\":\"HPP\"}, title=graph_title,\n",
    "             category_orders={\"scenario\": [\"Reference\", \"Energy Max\"]},\n",
    "              facet_col_spacing=0.05, facet_row_spacing=0.05)\n",
    "\n",
    "#fig.for_each_annotation(lambda a: a.update(text=a.text.split(\"=\")[-1]))\n",
    "#fig.update_traces(texttemplate='%{text:.4s}', textposition='outside') #to format the text on each bar\n",
    "#fig.update_layout(uniformtext_minsize=7, uniformtext_mode='hide') #to format the text on each bar\n",
    "\n",
    "#fig.update_yaxes(range=[0, 2300]) #setting the y-axis scale to ensure enough space for the text on each bar\n",
    "#fig.update_xaxes(showline=True, linewidth=2, linecolor='black', mirror=True) #drawing the border on x-axis\n",
    "#fig.update_yaxes(showline=True, linewidth=2, linecolor='black', mirror=True) #drawing the border on y-axis\n",
    "\n",
    "#You can change the image extension to *.png if you want or keep it as pdf (for high resolution)\n",
    "output_folder = os.path.join('Results_graphics')\n",
    "os.makedirs(output_folder, exist_ok = True)\n",
    "\n",
    "#pio.write_image(fig, 'Results_graphics/{}.pdf'.format(graph_title))\n",
    "fig.show()"
   ]
  },
  {
   "cell_type": "markdown",
   "metadata": {},
   "source": [
    "# Show this "
   ]
  },
  {
   "cell_type": "code",
   "execution_count": null,
   "metadata": {},
   "outputs": [],
   "source": [
    "hpp = 'AL-Import' # Specify the name of the hpp to print the graph\n",
    "graph_title='EM- Total Impact of the energy maximization scenario on '+ hpp\n",
    "df_em2 = df_em1.groupby(['scenario'])['value'].sum().round(2).reset_index()\n",
    "\n",
    "fig = px.bar(df_em2, x='scenario', y='value', text= 'value', color='scenario',barmode='group', \n",
    "              labels={\"value\": \"GWh\", \"tech\":\"HPP\"}, title=graph_title,\n",
    "             category_orders={\"scenario\": [\"Reference\", \"Energy Max\"]},\n",
    "              facet_col_spacing=0.05, facet_row_spacing=0.05)\n",
    "\n",
    "#fig.for_each_annotation(lambda a: a.update(text=a.text.split(\"=\")[-1]))\n",
    "fig.update_traces(texttemplate='%{text:.5s}', textposition='outside') #to format the text on each bar\n",
    "#fig.update_layout(uniformtext_minsize=7, uniformtext_mode='hide') #to format the text on each bar\n",
    "\n",
    "#fig.update_yaxes(range=[0, 2300]) #setting the y-axis scale to ensure enough space for the text on each bar\n",
    "#fig.update_xaxes(showline=True, linewidth=2, linecolor='black', mirror=True) #drawing the border on x-axis\n",
    "#fig.update_yaxes(showline=True, linewidth=2, linecolor='black', mirror=True) #drawing the border on y-axis\n",
    "\n",
    "#You can change the image extension to *.png if you want or keep it as pdf (for high resolution)\n",
    "output_folder = os.path.join('Results_graphics')\n",
    "os.makedirs(output_folder, exist_ok = True)\n",
    "\n",
    "#pio.write_image(fig, 'Results_graphics/{}.pdf'.format(graph_title))\n",
    "fig.show()"
   ]
  },
  {
   "cell_type": "markdown",
   "metadata": {},
   "source": [
    "# End "
   ]
  },
  {
   "cell_type": "markdown",
   "metadata": {},
   "source": [
    "# Old Graphs and using the old method"
   ]
  },
  {
   "cell_type": "code",
   "execution_count": null,
   "metadata": {},
   "outputs": [],
   "source": []
  },
  {
   "cell_type": "markdown",
   "metadata": {},
   "source": [
    "# Finding the difference in hydro generation between two scenarios"
   ]
  },
  {
   "cell_type": "code",
   "execution_count": null,
   "metadata": {},
   "outputs": [],
   "source": [
    "for i in scenarios:\n",
    "    hydro[i].astype(float)\n",
    "    hydro_gen=hydro[i].set_index('y')\n",
    "    hydro_df=hydro[i].set_index('y')\n",
    "    hydro_df['scenario'] = i\n",
    "    #hydro_df=hydro[i].set_index('y')- hydro[scenario1].set_index('y')\n",
    "    #hydro_dfp=(hydro_df/hydro[i].set_index('y'))*100\n",
    "    hydro_df=hydro_df.reindex(sorted(hydro_df.columns), axis=1).reset_index().rename(columns=det_col)\n",
    "    hydro_df=hydro_df[(hydro_df['y'] >= '2021') & (hydro_df['y'] <= '2050')]\n",
    "    hydro_df.rename({\"AL - Hydro dam - Fierza HPP\":\"Fierza\",\n",
    "                 'AL - Hydro dam - Koman HPP':'Koman',\n",
    "                 'AL - Hydro dam - New Skavica Hpp ':'Skavica',\n",
    "                 'AL - Hydro dam - Vau I dejes HPP':\"Vaudejas\",\n",
    "                 'MK - Hydro dam - Globicica HPP':\"Globocica\", \n",
    "                 'MK - Hydro dam - Shpilje HPP':\"Spilje\"}, axis=1, inplace=True)\n",
    "    \n",
    "    #spil = pd.DataFrame()\n",
    "    #spil[i] = hydro[i]['MK - Hydro dam - Shpilje HPP']\n",
    "    \n",
    "    # Save files\n",
    "    #output_folder = os.path.join('processed_results', 'scenario_comparison')\n",
    "    #os.makedirs(output_folder, exist_ok = True)\n",
    "\n",
    "    #file_path=os.path.join(output_folder, f'Change_in_{i}_VS_REF.xlsx')\n",
    "    #writer = pd.ExcelWriter(file_path, engine='xlsxwriter')\n",
    "    #hydro_df.round(2).to_excel(writer, index=False, sheet_name='all')\n",
    "    \n",
    " \n",
    "    #writer.save()\n",
    "    \n",
    "    \n",
    "    "
   ]
  },
  {
   "cell_type": "code",
   "execution_count": null,
   "metadata": {},
   "outputs": [],
   "source": [
    "hydro_df"
   ]
  },
  {
   "cell_type": "code",
   "execution_count": null,
   "metadata": {},
   "outputs": [],
   "source": [
    "fig = px.bar(df, x='y', y='Spilje', color='scenario', facet_col='hpp', facet_col_wrap=2, \n",
    "              labels={\"Spilje\": \"GWh\"}, title='Energy requirements per m3 pumped in agriculture', barmode='group',\n",
    "              facet_col_spacing=0.05)\n",
    "fig.for_each_annotation(lambda a: a.update(text=a.text.split(\"=\")[-1]))"
   ]
  },
  {
   "cell_type": "code",
   "execution_count": null,
   "metadata": {},
   "outputs": [],
   "source": [
    "hpps = data.columns.drop(['y','scenario'])\n",
    "for hpp in hpps:\n",
    "    df = pd.DataFrame()\n",
    "    df = data[['y',hpp,'scenario']]\n",
    "    "
   ]
  },
  {
   "cell_type": "code",
   "execution_count": null,
   "metadata": {},
   "outputs": [],
   "source": [
    "df"
   ]
  },
  {
   "cell_type": "markdown",
   "metadata": {},
   "source": [
    "# Initial Calculations"
   ]
  },
  {
   "cell_type": "code",
   "execution_count": null,
   "metadata": {},
   "outputs": [],
   "source": [
    "# Select the scenarios to compare (the selection from the hydro dataframe)\n",
    "# Remember that:\n",
    "#scenario1 = 'REF'\n",
    "#scenario2 = 'CC_52TS'\n",
    "#scenario3 = 'ND_NO_SKAVICA'\n",
    "#scenario4 = 'ND_SKAVICA'\n",
    "#scenario5 = 'FP_COOP05'\n",
    "#scenario6 = 'FP_COOP10'\n",
    "#scenario7 = 'FP_COOP15'\n",
    "#scenario8 = 'FP_COOP20'\n",
    "#scenario9 = 'EO_ENGOPT2'\n",
    "\n",
    "hydro[scenario1].astype(float)\n",
    "hydro[scenario2].astype(float)\n",
    "hydro[scenario3].astype(float)\n",
    "hydro[scenario4].astype(float)\n",
    "hydro[scenario5].astype(float)\n",
    "hydro[scenario6].astype(float)\n",
    "hydro[scenario7].astype(float)\n",
    "hydro[scenario8].astype(float)\n",
    "hydro[scenario9].astype(float)\n",
    "\n",
    "#hydro[scenario1] = hydro[scenario1]*280 #in TWh\n",
    "#hydro[scenario2] = hydro[scenario2]*280 #in TWh\n",
    "#hydro[scenario3] = hydro[scenario3]*280 #in TWh\n",
    "#hydro[scenario4] = hydro[scenario4]*280 #in TWh\n",
    "#hydro[scenario5] = hydro[scenario5]*280 #in TWh\n",
    "\n",
    "# Create a new dataframe that computes the difference in generation for each HPP between two scenarios \n",
    "hydro_df2=hydro[scenario2].set_index('y')-hydro[scenario1].set_index('y')\n",
    "hydro_df3=hydro[scenario3].set_index('y')-hydro[scenario1].set_index('y')\n",
    "hydro_df4=hydro[scenario4].set_index('y')-hydro[scenario1].set_index('y')\n",
    "hydro_df5=hydro[scenario5].set_index('y')-hydro[scenario1].set_index('y')\n",
    "hydro_df6=hydro[scenario6].set_index('y')-hydro[scenario1].set_index('y')\n",
    "hydro_df7=hydro[scenario7].set_index('y')-hydro[scenario1].set_index('y')\n",
    "hydro_df8=hydro[scenario8].set_index('y')-hydro[scenario1].set_index('y')\n",
    "hydro_df9=hydro[scenario9].set_index('y')-hydro[scenario1].set_index('y')\n",
    "\n",
    "\n",
    "\n",
    "hydro_df2p=(hydro_df2/hydro[scenario1].set_index('y'))*100\n",
    "hydro_df3p=(hydro_df3/hydro[scenario1].set_index('y'))*100\n",
    "hydro_df4p=(hydro_df4/hydro[scenario1].set_index('y'))*100\n",
    "hydro_df5p=(hydro_df5/hydro[scenario1].set_index('y'))*100\n",
    "hydro_df6p=(hydro_df6/hydro[scenario1].set_index('y'))*100\n",
    "hydro_df7p=(hydro_df7/hydro[scenario1].set_index('y'))*100\n",
    "hydro_df8p=(hydro_df8/hydro[scenario1].set_index('y'))*100\n",
    "hydro_df9p=(hydro_df9/hydro[scenario1].set_index('y'))*100\n",
    "\n",
    "#hydro_df = hydro_df*280 #to convert from PJ to TWh\n",
    "\n",
    "hydro_df2=hydro_df2.reindex(sorted(hydro_df2.columns), axis=1).reset_index().rename(columns=det_col)\n",
    "hydro_df2=hydro_df2[(hydro_df2['y'] >= '2021') & (hydro_df2['y'] <= '2050')]\n",
    "\n",
    "hydro_df3=hydro_df3.reindex(sorted(hydro_df3.columns), axis=1).reset_index().rename(columns=det_col)\n",
    "hydro_df3=hydro_df3[(hydro_df3['y'] >= '2021') & (hydro_df3['y'] <= '2050')]\n",
    "\n",
    "hydro_df4=hydro_df4.reindex(sorted(hydro_df4.columns), axis=1).reset_index().rename(columns=det_col)\n",
    "hydro_df4=hydro_df4[(hydro_df4['y'] >= '2021') & (hydro_df4['y'] <= '2050')]\n",
    "\n",
    "hydro_df5=hydro_df5.reindex(sorted(hydro_df5.columns), axis=1).reset_index().rename(columns=det_col)\n",
    "hydro_df5=hydro_df5[(hydro_df5['y'] >= '2021') & (hydro_df5['y'] <= '2050')]\n",
    "\n",
    "hydro_df6=hydro_df6.reindex(sorted(hydro_df6.columns), axis=1).reset_index().rename(columns=det_col)\n",
    "hydro_df6=hydro_df6[(hydro_df6['y'] >= '2021') & (hydro_df6['y'] <= '2050')]\n",
    "\n",
    "hydro_df7=hydro_df7.reindex(sorted(hydro_df7.columns), axis=1).reset_index().rename(columns=det_col)\n",
    "hydro_df7=hydro_df7[(hydro_df7['y'] >= '2021') & (hydro_df7['y'] <= '2050')]\n",
    "\n",
    "hydro_df8=hydro_df8.reindex(sorted(hydro_df8.columns), axis=1).reset_index().rename(columns=det_col)\n",
    "hydro_df8=hydro_df8[(hydro_df8['y'] >= '2021') & (hydro_df8['y'] <= '2050')]\n",
    "\n",
    "hydro_df9=hydro_df9.reindex(sorted(hydro_df9.columns), axis=1).reset_index().rename(columns=det_col)\n",
    "hydro_df9=hydro_df9[(hydro_df9['y'] >= '2021') & (hydro_df9['y'] <= '2050')]\n",
    "\n",
    "\n",
    "# Save the file: please specificy the title you want in between the \"\"\n",
    "#hydro_df.to_csv(os.path.join(homedir, \"Diff in hyd gen (ccb-avgb).csv\"),index=None)"
   ]
  },
  {
   "cell_type": "code",
   "execution_count": null,
   "metadata": {},
   "outputs": [],
   "source": [
    "hydro_df"
   ]
  },
  {
   "cell_type": "code",
   "execution_count": null,
   "metadata": {},
   "outputs": [],
   "source": []
  },
  {
   "cell_type": "markdown",
   "metadata": {},
   "source": [
    "# Creating dateframes for hpp results"
   ]
  },
  {
   "cell_type": "code",
   "execution_count": null,
   "metadata": {},
   "outputs": [],
   "source": [
    "# Globo"
   ]
  },
  {
   "cell_type": "code",
   "execution_count": null,
   "metadata": {},
   "outputs": [],
   "source": [
    "#scenario1 = 'REF'\n",
    "#scenario2 = 'CC_52TS'\n",
    "#scenario3 = 'ND_NO_SKAVICA'\n",
    "#scenario4 = 'ND_SKAVICA'\n",
    "#scenario5 = 'FP_COOP05'\n",
    "#scenario6 = 'FP_COOP10'\n",
    "#scenario7 = 'FP_COOP15'\n",
    "#scenario8 = 'FP_COOP20'\n",
    "#scenario9 = 'EO_ENGOPT2'"
   ]
  },
  {
   "cell_type": "code",
   "execution_count": null,
   "metadata": {},
   "outputs": [],
   "source": [
    "glob = pd.DataFrame()\n",
    "glob['REF'] = hydro[scenario1]['MK - Hydro dam - Globicica HPP']\n",
    "glob['CC'] = hydro[scenario2]['MK - Hydro dam - Globicica HPP']\n",
    "glob['NOSKAV'] = hydro[scenario3]['MK - Hydro dam - Globicica HPP']\n",
    "glob['SKAVICA'] = hydro[scenario4]['MK - Hydro dam - Globicica HPP']\n",
    "glob['COOP05'] = hydro[scenario5]['MK - Hydro dam - Globicica HPP']\n",
    "glob['COOP10'] = hydro[scenario6]['MK - Hydro dam - Globicica HPP']\n",
    "glob['COOP15'] = hydro[scenario7]['MK - Hydro dam - Globicica HPP']\n",
    "glob['COOP20'] = hydro[scenario8]['MK - Hydro dam - Globicica HPP']\n",
    "glob['ENGOPT'] = hydro[scenario9]['MK - Hydro dam - Globicica HPP']\n",
    "glob = glob *  277.77 # PJ to GWh \n",
    "glob['Year'] = hydro[scenario1]['y']\n",
    "glob = glob[(glob['Year']>='2021')&(glob['Year']<='2050')]\n",
    "glob['hpp'] = 'globocica'\n",
    "glob = glob[['hpp','Year','REF', 'CC', 'NOSKAV', 'SKAVICA', 'COOP05', 'COOP10', 'COOP15', 'COOP20','ENGOPT']]\n",
    "for col in glob.columns.drop(['hpp','Year']):\n",
    "    glob[f'({col}-REF)%'] = (((glob[col]-glob['REF'])/glob['REF'])*100).round(2)\n",
    "\n",
    "glob.drop('(REF-REF)%', axis=True , inplace=True)"
   ]
  },
  {
   "cell_type": "code",
   "execution_count": null,
   "metadata": {},
   "outputs": [],
   "source": []
  },
  {
   "cell_type": "code",
   "execution_count": null,
   "metadata": {},
   "outputs": [],
   "source": [
    "spil = pd.DataFrame()\n",
    "spil['REF'] = hydro[scenario1]['MK - Hydro dam - Shpilje HPP']\n",
    "spil['CC'] = hydro[scenario2]['MK - Hydro dam - Shpilje HPP']\n",
    "spil['NOSKAV'] = hydro[scenario3]['MK - Hydro dam - Shpilje HPP']\n",
    "spil['SKAVICA'] = hydro[scenario4]['MK - Hydro dam - Shpilje HPP']\n",
    "spil['COOP05'] = hydro[scenario5]['MK - Hydro dam - Shpilje HPP']\n",
    "spil['COOP10'] = hydro[scenario6]['MK - Hydro dam - Shpilje HPP']\n",
    "spil['COOP15'] = hydro[scenario7]['MK - Hydro dam - Shpilje HPP']\n",
    "spil['COOP20'] = hydro[scenario8]['MK - Hydro dam - Shpilje HPP']\n",
    "spil['ENGOPT'] = hydro[scenario9]['MK - Hydro dam - Shpilje HPP']\n",
    "spil = spil *  277.77 # PJ to GWh \n",
    "spil['Year'] = hydro[scenario1]['y']\n",
    "spil = spil[(spil['Year']>='2021')&(spil['Year']<='2050')]\n",
    "spil['hpp'] = 'spilje'\n",
    "spil = spil[['hpp','Year','REF', 'CC', 'NOSKAV', 'SKAVICA', 'COOP05', 'COOP10', 'COOP15', 'COOP20','ENGOPT']]\n",
    "for col in spil.columns.drop(['hpp','Year']):\n",
    "    spil[f'({col}-REF)%'] = (((spil[col]-spil['REF'])/spil['REF'])*100).round(2)\n",
    "    spil[f'({col}-REF)'] = (spil[col]-spil['REF']).round(2)\n",
    "spil.drop('(REF-REF)%', axis=True , inplace=True)"
   ]
  },
  {
   "cell_type": "code",
   "execution_count": null,
   "metadata": {},
   "outputs": [],
   "source": []
  },
  {
   "cell_type": "code",
   "execution_count": null,
   "metadata": {},
   "outputs": [],
   "source": [
    "fier = pd.DataFrame()\n",
    "#fier['hpp']='fierza'\n",
    "fier['REF'] = hydro[scenario1]['AL - Hydro dam - Fierza HPP']\n",
    "fier['CC'] = hydro[scenario2]['AL - Hydro dam - Fierza HPP']\n",
    "fier['NOSKAV'] = hydro[scenario3]['AL - Hydro dam - Fierza HPP']\n",
    "fier['SKAVICA'] = hydro[scenario4]['AL - Hydro dam - Fierza HPP']\n",
    "fier['COOP05'] = hydro[scenario5]['AL - Hydro dam - Fierza HPP']\n",
    "fier['COOP10'] = hydro[scenario6]['AL - Hydro dam - Fierza HPP']\n",
    "fier['COOP15'] = hydro[scenario7]['AL - Hydro dam - Fierza HPP']\n",
    "fier['COOP20'] = hydro[scenario8]['AL - Hydro dam - Fierza HPP']\n",
    "fier['ENGOPT'] = hydro[scenario9]['AL - Hydro dam - Fierza HPP']\n",
    "fier = fier*277.77 # PJ to GWh\n",
    "fier['Year'] = hydro[scenario1]['y']\n",
    "fier = fier[(fier['Year']>='2021')&(fier['Year']<='2050')]\n",
    "fier['hpp']='fierza'\n",
    "fier = fier[['hpp','Year','REF', 'CC', 'NOSKAV', 'SKAVICA', 'COOP05', 'COOP10', 'COOP15', 'COOP20','ENGOPT']]\n",
    "for col in fier.columns.drop(['hpp','Year']):\n",
    "    fier[f'({col}-REF)%'] = (((fier[col]-fier['REF'])/fier['REF'])*100).round(2)\n",
    "    fier[f'({col}-REF)'] = (fier[col]-fier['REF']).round(2)\n",
    "fier.drop('(REF-REF)%', axis=True , inplace=True)"
   ]
  },
  {
   "cell_type": "code",
   "execution_count": null,
   "metadata": {},
   "outputs": [],
   "source": []
  },
  {
   "cell_type": "code",
   "execution_count": null,
   "metadata": {},
   "outputs": [],
   "source": [
    "komn = pd.DataFrame()\n",
    "komn['REF'] = hydro[scenario1]['AL - Hydro dam - Koman HPP']\n",
    "komn['CC'] = hydro[scenario2]['AL - Hydro dam - Koman HPP']\n",
    "komn['NOSKAV'] = hydro[scenario3]['AL - Hydro dam - Koman HPP']\n",
    "komn['SKAVICA'] = hydro[scenario4]['AL - Hydro dam - Koman HPP']\n",
    "komn['COOP05'] = hydro[scenario5]['AL - Hydro dam - Koman HPP']\n",
    "komn['COOP10'] = hydro[scenario6]['AL - Hydro dam - Koman HPP']\n",
    "komn['COOP15'] = hydro[scenario7]['AL - Hydro dam - Koman HPP']\n",
    "komn['COOP20'] = hydro[scenario8]['AL - Hydro dam - Koman HPP']\n",
    "komn['ENGOPT'] = hydro[scenario9]['AL - Hydro dam - Koman HPP']\n",
    "komn = komn*277.77 # PJ to GWh\n",
    "komn['Year'] = hydro[scenario1]['y']\n",
    "komn = komn[(komn['Year']>='2021')&(komn['Year']<='2050')]\n",
    "komn['hpp']='koman'\n",
    "komn = komn[['hpp','Year','REF', 'CC', 'NOSKAV', 'SKAVICA', 'COOP05', 'COOP10', 'COOP15', 'COOP20','ENGOPT']]\n",
    "for col in komn.columns.drop(['hpp','Year']):\n",
    "    komn[f'({col}-REF)%'] = (((komn[col]-komn['REF'])/komn['REF'])*100).round(2)\n",
    "\n",
    "komn.drop('(REF-REF)%', axis=True , inplace=True)"
   ]
  },
  {
   "cell_type": "code",
   "execution_count": null,
   "metadata": {},
   "outputs": [],
   "source": []
  },
  {
   "cell_type": "code",
   "execution_count": null,
   "metadata": {},
   "outputs": [],
   "source": [
    "vaud = pd.DataFrame()\n",
    "vaud['hpp']='vau i dejas'\n",
    "vaud['REF'] = hydro[scenario1]['AL - Hydro dam - Vau I dejes HPP']\n",
    "vaud['CC'] = hydro[scenario2]['AL - Hydro dam - Vau I dejes HPP']\n",
    "vaud['NOSKAV'] = hydro[scenario3]['AL - Hydro dam - Vau I dejes HPP']\n",
    "vaud['SKAVICA'] = hydro[scenario4]['AL - Hydro dam - Vau I dejes HPP']\n",
    "vaud['COOP05'] = hydro[scenario5]['AL - Hydro dam - Vau I dejes HPP']\n",
    "vaud['COOP10'] = hydro[scenario6]['AL - Hydro dam - Vau I dejes HPP']\n",
    "vaud['COOP15'] = hydro[scenario7]['AL - Hydro dam - Vau I dejes HPP']\n",
    "vaud['COOP20'] = hydro[scenario8]['AL - Hydro dam - Vau I dejes HPP']\n",
    "vaud['ENGOPT'] = hydro[scenario9]['AL - Hydro dam - Vau I dejes HPP']\n",
    "vaud = vaud*277.77 # PJ to GWh\n",
    "vaud['Year'] = hydro[scenario1]['y']\n",
    "vaud = vaud[(vaud['Year']>='2021')&(vaud['Year']<='2050')]\n",
    "vaud['hpp']='vau i dejas'\n",
    "vaud = vaud[['hpp','Year','REF', 'CC', 'NOSKAV', 'SKAVICA', 'COOP05', 'COOP10', 'COOP15', 'COOP20','ENGOPT']]\n",
    "for col in vaud.columns.drop(['hpp','Year']):\n",
    "    vaud[f'({col}-REF)%'] = (((vaud[col]-vaud['REF'])/vaud['REF'])*100).round(2)\n",
    "\n",
    "vaud.drop('(REF-REF)%', axis=True , inplace=True)"
   ]
  },
  {
   "cell_type": "code",
   "execution_count": null,
   "metadata": {},
   "outputs": [],
   "source": []
  },
  {
   "cell_type": "markdown",
   "metadata": {},
   "source": [
    "# Creating a summary table showing the average electricity generation from each HPP under each scenario"
   ]
  },
  {
   "cell_type": "code",
   "execution_count": null,
   "metadata": {},
   "outputs": [],
   "source": [
    "summary = pd.DataFrame()\n",
    "summary = pd.concat([glob, spil, fier, komn, vaud], ignore_index=False)\n"
   ]
  },
  {
   "cell_type": "code",
   "execution_count": null,
   "metadata": {},
   "outputs": [],
   "source": [
    "summary = summary.groupby('hpp')[['hpp','REF', 'CC', 'NOSKAV', 'SKAVICA', 'COOP05', 'COOP10', 'COOP15', 'COOP20','ENGOPT']].mean().round(2).reset_index()\n",
    "summary = summary.reindex([1,3,0,2,4], axis=0)\n",
    "summary.reset_index(drop=True, inplace=True)"
   ]
  },
  {
   "cell_type": "code",
   "execution_count": null,
   "metadata": {},
   "outputs": [],
   "source": [
    "summary"
   ]
  },
  {
   "cell_type": "code",
   "execution_count": null,
   "metadata": {},
   "outputs": [],
   "source": [
    "summary2= summary.copy()\n",
    "for col in summary.columns.drop('hpp'):\n",
    "    summary2[f'({col}-REF)%'] = (((summary[col]-summary['REF'])/summary['REF'])*100).round(2)\n",
    "    \n",
    "summary2.drop(['REF','COOP05', 'COOP10','COOP15','COOP20','NOSKAV','ENGOPT','SKAVICA', 'CC','(REF-REF)%'], axis = 1, inplace=True)\n",
    "\n",
    "summary2"
   ]
  },
  {
   "cell_type": "code",
   "execution_count": null,
   "metadata": {},
   "outputs": [],
   "source": [
    "# Saving the summary table\n",
    "results_path = os.path.join(homedir, 'Results_tables')\n",
    "os.makedirs(results_path, exist_ok=True)\n",
    "\n",
    "file_path=os.path.join(results_path, 'summary_results20210622.xlsx')\n",
    "writer = pd.ExcelWriter(file_path, engine='xlsxwriter') \n",
    "summary.to_excel(writer, index=False, sheet_name='abs_change_mean')\n",
    "summary2.to_excel(writer, index=False, sheet_name='%change_mean')\n",
    "glob.to_excel(writer, index=False, sheet_name='globocica')\n",
    "spil.to_excel(writer, index=False, sheet_name='spilje')\n",
    "fier.to_excel(writer, index=False, sheet_name='fierza')\n",
    "komn.to_excel(writer, index=False, sheet_name='koman')\n",
    "vaud.to_excel(writer, index=False, sheet_name='vau_dejas')\n",
    "\n",
    "writer.save()\n"
   ]
  },
  {
   "cell_type": "markdown",
   "metadata": {},
   "source": [
    "# Generating results graphs"
   ]
  },
  {
   "cell_type": "code",
   "execution_count": null,
   "metadata": {},
   "outputs": [],
   "source": [
    "# Spilje under all scenarios\n",
    "#y=['REF', 'COOP05', 'COOP10', 'COOP15', 'COOP20','NOCOOP','ENGOPT','SKAVICA', 'CC']\n",
    "\n",
    "title='Flood Protection - Electricity generation in Spilje'\n",
    "fig = px.bar(spil, x='Year', y=['REF', 'COOP05', 'COOP20',], \n",
    "              labels={\"value\": \"GWh\", \"variable\":\"Scenarios\"},\n",
    "             title=title, barmode='group',\n",
    "              facet_col_spacing=0.06, color_discrete_sequence=px.colors.qualitative.T10)\n",
    "\n",
    "#fig.update_layout(yaxis='PJ')\n",
    "#You can change the image extension to *.png if you want or keep it as pdf (for high resolution)\n",
    "output_folder = os.path.join('Results_graphics')\n",
    "os.makedirs(output_folder, exist_ok = True)\n",
    "\n",
    "#pio.write_image(fig, 'Results_graphics/{}.pdf'.format(title))\n",
    "fig.show()"
   ]
  },
  {
   "cell_type": "code",
   "execution_count": null,
   "metadata": {},
   "outputs": [],
   "source": [
    "# Fierza under all scenarios\n",
    "#y=['REF', 'CC', 'NOSKAV', 'SKAVICA', 'COOP05', 'COOP10', 'COOP15', 'COOP20','ENGOPT']\n",
    "\n",
    "title='Flood Protection - Electricity generation in Fierza'\n",
    "fig = px.bar(fier, x='Year', y=['REF', 'COOP05', 'COOP10', 'COOP15', 'COOP20','ENGOPT'], \n",
    "              labels={\"value\": \"GWh\", \"variable\":\"Scenarios\"},\n",
    "             title=title, barmode='group',\n",
    "              facet_col_spacing=0.06, color_discrete_sequence=px.colors.qualitative.T10)\n",
    "\n",
    "#fig.update_layout(yaxis='PJ')\n",
    "#You can change the image extension to *.png if you want or keep it as pdf (for high resolution)\n",
    "output_folder = os.path.join('Results_graphics')\n",
    "os.makedirs(output_folder, exist_ok = True)\n",
    "\n",
    "#pio.write_image(fig, 'Results_graphics/{}.pdf'.format(title))\n",
    "fig.show()"
   ]
  },
  {
   "cell_type": "code",
   "execution_count": null,
   "metadata": {},
   "outputs": [],
   "source": [
    "# Fierza under selected scenarios\n",
    "\n",
    "title='Energy Optimization - Electricity generation in Fierza'\n",
    "fig = px.bar(fier, x='Year', y=['REF', 'ENGOPT'], \n",
    "              labels={\"value\": \"GWh\", \"variable\":\"Scenarios\"},\n",
    "             title=title, barmode='group',\n",
    "              facet_col_spacing=0.06, color_discrete_sequence=px.colors.qualitative.T10)\n",
    "\n",
    "#fig.update_layout(yaxis='PJ')\n",
    "#You can change the image extension to *.png if you want or keep it as pdf (for high resolution)\n",
    "output_folder = os.path.join('Results_graphics')\n",
    "os.makedirs(output_folder, exist_ok = True)\n",
    "\n",
    "pio.write_image(fig, 'Results_graphics/{}.pdf'.format(title))\n",
    "fig.show()"
   ]
  },
  {
   "cell_type": "code",
   "execution_count": null,
   "metadata": {},
   "outputs": [],
   "source": [
    "# Koman under all scenarios\n",
    "\n",
    "title='Flood Protection - Electricity generation in Koman'\n",
    "\n",
    "fig = px.bar(komn, x='Year', y=['REF', 'CC', 'NOSKAV', 'SKAVICA', 'COOP05', 'COOP10', 'COOP15', 'COOP20','ENGOPT'], \n",
    "              labels={\"value\": \"GWh\", \"variable\":\"Scenarios\"},\n",
    "             title=title, barmode='group',\n",
    "              facet_col_spacing=0.06, color_discrete_sequence=px.colors.qualitative.T10)\n",
    "\n",
    "#fig.update_layout(yaxis='PJ')\n",
    "#You can change the image extension to *.png if you want or keep it as pdf (for high resolution)\n",
    "output_folder = os.path.join('Results_graphics')\n",
    "os.makedirs(output_folder, exist_ok = True)\n",
    "\n",
    "#pio.write_image(fig, 'Results_graphics/{}.pdf'.format(title))\n",
    "fig.show()"
   ]
  },
  {
   "cell_type": "code",
   "execution_count": null,
   "metadata": {},
   "outputs": [],
   "source": [
    "# Vau i dejas under all scenarios\n",
    "\n",
    "title='Flood Protection - Electricity generation in Vau i dejas'\n",
    "\n",
    "fig = px.bar(vaud, x='Year', y=['REF', 'CC', 'NOSKAV', 'SKAVICA', 'COOP05', 'COOP10', 'COOP15', 'COOP20','ENGOPT'], \n",
    "              labels={\"value\": \"GWh\", \"variable\":\"Scenarios\"},\n",
    "             title=title, barmode='group',\n",
    "              facet_col_spacing=0.06, color_discrete_sequence=px.colors.qualitative.T10)\n",
    "\n",
    "#fig.update_layout(yaxis='PJ')\n",
    "#You can change the image extension to *.png if you want or keep it as pdf (for high resolution)\n",
    "output_folder = os.path.join('Results_graphics')\n",
    "os.makedirs(output_folder, exist_ok = True)\n",
    "\n",
    "#pio.write_image(fig, 'Results_graphics/{}.pdf'.format(title))\n",
    "fig.show()"
   ]
  },
  {
   "cell_type": "code",
   "execution_count": null,
   "metadata": {},
   "outputs": [],
   "source": [
    "fier2 = fier.loc[(fier['Year']=='2030') | (fier['Year']=='2040') | (fier['Year']=='2050')]\n",
    "fier2"
   ]
  },
  {
   "cell_type": "code",
   "execution_count": null,
   "metadata": {},
   "outputs": [],
   "source": [
    "# Fierza under all scenarios - selected years\n",
    "#y=['REF', 'CC', 'NOSKAV', 'SKAVICA', 'COOP05', 'COOP10', 'COOP15', 'COOP20','ENGOPT']\n",
    "\n",
    "title='Flood Protection - Electricity generation in Fierza in selected years'\n",
    "fig = px.bar(fier2, x='Year', y=['REF', 'COOP05', 'COOP20'], \n",
    "              labels={\"value\": \"GWh\", \"variable\":\"Scenarios\"},\n",
    "             title=title, barmode='group',\n",
    "              facet_col_spacing=0.06, color_discrete_sequence=px.colors.qualitative.T10)\n",
    "\n",
    "#fig.update_layout(yaxis='PJ')\n",
    "#You can change the image extension to *.png if you want or keep it as pdf (for high resolution)\n",
    "output_folder = os.path.join('Results_graphics')\n",
    "os.makedirs(output_folder, exist_ok = True)\n",
    "\n",
    "pio.write_image(fig, 'Results_graphics/{}.pdf'.format(title))\n",
    "fig.show()"
   ]
  },
  {
   "cell_type": "code",
   "execution_count": null,
   "metadata": {},
   "outputs": [],
   "source": [
    "spil2 = spil.loc[(spil['Year']=='2030') | (spil['Year']=='2040') | (spil['Year']=='2050')]\n",
    "spil2"
   ]
  },
  {
   "cell_type": "code",
   "execution_count": null,
   "metadata": {},
   "outputs": [],
   "source": [
    "# Fierza under all scenarios - selected years\n",
    "#y=['REF', 'COOP05', 'COOP10', 'COOP15', 'COOP20','NOCOOP','ENGOPT','SKAVICA', 'CC']\n",
    "\n",
    "title='Flood Protection - Electricity generation in Spilje in selected years'\n",
    "fig = px.bar(spil2, x='Year', y=['(COOP05-REF)%', '(COOP20-REF)%'], \n",
    "              labels={\"value\": \"%\", \"variable\":\"Scenarios\"},\n",
    "             title=title, barmode='group',\n",
    "              facet_col_spacing=0.06, color_discrete_sequence=px.colors.qualitative.T10)\n",
    "\n",
    "#fig.update_layout(yaxis='PJ')\n",
    "#You can change the image extension to *.png if you want or keep it as pdf (for high resolution)\n",
    "output_folder = os.path.join('Results_graphics')\n",
    "os.makedirs(output_folder, exist_ok = True)\n",
    "\n",
    "#pio.write_image(fig, 'Results_graphics/{}.pdf'.format(title))\n",
    "fig.show()"
   ]
  },
  {
   "cell_type": "code",
   "execution_count": null,
   "metadata": {},
   "outputs": [],
   "source": [
    "# summary of all scenarios\n",
    "#y=['REF', 'COOP05', 'COOP10', 'COOP15', 'COOP20','NOCOOP','ENGOPT','SKAVICA','CC']\n",
    "\n",
    "title='Flood Protection - Change in Average Electricity generation from all HPPs under different scenarios'\n",
    "\n",
    "fig = px.bar(summary, x='hpp', y=['REF', 'COOP05', 'COOP10', 'COOP15', 'COOP20'], \n",
    "              labels={\"value\": \"GWh\", \"variable\":\"Scenarios\"},\n",
    "             title=title, barmode='group',\n",
    "              facet_col_spacing=0.06, color_discrete_sequence=px.colors.qualitative.T10)\n",
    "\n",
    "#fig.update_layout(yaxis='PJ')\n",
    "#You can change the image extension to *.png if you want or keep it as pdf (for high resolution)\n",
    "output_folder = os.path.join('Results_graphics')\n",
    "os.makedirs(output_folder, exist_ok = True)\n",
    "\n",
    "#pio.write_image(fig, 'Results_graphics/{}.pdf'.format(title))\n",
    "fig.show()"
   ]
  },
  {
   "cell_type": "code",
   "execution_count": null,
   "metadata": {},
   "outputs": [],
   "source": [
    "summary3 = summary2[summary2!='globocica'] "
   ]
  },
  {
   "cell_type": "code",
   "execution_count": null,
   "metadata": {},
   "outputs": [],
   "source": [
    "# summary of all scenarios\n",
    "#y=['REF', 'COOP05', 'COOP10', 'COOP15', 'COOP20','NOCOOP','ENGOPT','SKAVICA','CC']\n",
    "\n",
    "title='Flood Protection - %Change in Average Electricity generation from all HPPs under different scenarios'\n",
    "\n",
    "fig = px.bar(summary3, x='hpp', y=['(COOP05-REF)%', '(COOP10-REF)%', '(COOP15-REF)%','(COOP20-REF)%'], \n",
    "              labels={\"value\": \"%\", \"variable\":\"Scenarios\"},\n",
    "             title=title, barmode='group',\n",
    "              facet_col_spacing=0.06, color_discrete_sequence=px.colors.qualitative.T10)\n",
    "\n",
    "#fig.update_layout(yaxis='PJ')\n",
    "#You can change the image extension to *.png if you want or keep it as pdf (for high resolution)\n",
    "output_folder = os.path.join('Results_graphics')\n",
    "os.makedirs(output_folder, exist_ok = True)\n",
    "\n",
    "#pio.write_image(fig, 'Results_graphics/{}.pdf'.format(title))\n",
    "fig.show()"
   ]
  },
  {
   "cell_type": "code",
   "execution_count": null,
   "metadata": {},
   "outputs": [],
   "source": [
    "# summary of all scenarios\n",
    "#y=['REF', 'COOP05', 'COOP10', 'COOP15', 'COOP20','NOCOOP','ENGOPT','SKAVICA','CC']\n",
    "\n",
    "title='Flood Protection - %Change in Average Electricity generation from all HPPs under different scenarios'\n",
    "\n",
    "fig = px.bar(summary, x='hpp', y=['(COOP05-REF)%', '(COOP10-REF)%', '(COOP15-REF)%','(COOP20-REF)%'], \n",
    "              labels={\"value\": \"GWh\", \"variable\":\"Scenarios\"},\n",
    "             title=title, barmode='group',\n",
    "              facet_col_spacing=0.06, color_discrete_sequence=px.colors.qualitative.T10)\n",
    "\n",
    "#fig.update_layout(yaxis='PJ')\n",
    "#You can change the image extension to *.png if you want or keep it as pdf (for high resolution)\n",
    "output_folder = os.path.join('Results_graphics')\n",
    "os.makedirs(output_folder, exist_ok = True)\n",
    "\n",
    "#pio.write_image(fig, 'Results_graphics/{}.pdf'.format(title))\n",
    "fig.show()"
   ]
  },
  {
   "cell_type": "markdown",
   "metadata": {},
   "source": [
    "# Climate Change Scenario Graphs"
   ]
  },
  {
   "cell_type": "code",
   "execution_count": null,
   "metadata": {},
   "outputs": [],
   "source": [
    "spil['Year'] = hydro[scenario1]['y']\n",
    "spil = spil[(spil['Year']>='2021')&(spil['Year']<='2050')]\n",
    "\n",
    "\n"
   ]
  },
  {
   "cell_type": "code",
   "execution_count": null,
   "metadata": {},
   "outputs": [],
   "source": [
    "spil_cc = spil[['hpp','Year','REF', 'CC']].copy()\n",
    "glob_cc = glob[['hpp','Year','REF', 'CC']].copy()\n",
    "nm_cc = spil_cc.merge(glob_cc, on='Year')"
   ]
  },
  {
   "cell_type": "code",
   "execution_count": null,
   "metadata": {},
   "outputs": [],
   "source": [
    "nm_cc2 = nm_cc[(nm_cc['Year']=='2030') | (nm_cc['Year']=='2050')]\n",
    "nm_cc2"
   ]
  },
  {
   "cell_type": "code",
   "execution_count": null,
   "metadata": {},
   "outputs": [],
   "source": [
    "spil_cc = spil[['hpp','Year','REF', 'CC']].copy()\n",
    "glob_cc = glob[['hpp','Year','REF', 'CC']].copy()\n",
    "\n",
    "nm_cc = spil[['hpp','Year','REF', 'CC']].copy()\n",
    "\n",
    "df_cc2 = df_cc[(df_cc['Year']=='2030') | (df_cc['Year']=='2050')]"
   ]
  },
  {
   "cell_type": "code",
   "execution_count": null,
   "metadata": {},
   "outputs": [],
   "source": [
    "df_cc2"
   ]
  },
  {
   "cell_type": "code",
   "execution_count": null,
   "metadata": {},
   "outputs": [],
   "source": [
    "df_cc = spil[['hpp','Year','REF', 'CC']].copy()\n",
    "year_cc = spil_cc['Year']"
   ]
  },
  {
   "cell_type": "code",
   "execution_count": null,
   "metadata": {},
   "outputs": [],
   "source": [
    "title='Change in electricity generation from Spilje HPP under climate change'\n",
    "\n",
    "fig = px.bar(spil_cc, x='Year', y=['REF', 'CC'], \n",
    "              labels={\"value\": \"GWh\", \"variable\":\"Scenarios\"},\n",
    "             title=title, barmode='group',\n",
    "              facet_col_spacing=0.06, color_discrete_sequence=px.colors.qualitative.T10)\n",
    "\n",
    "#fig.update_layout(yaxis='PJ')\n",
    "#You can change the image extension to *.png if you want or keep it as pdf (for high resolution)\n",
    "output_folder = os.path.join('Results_graphics')\n",
    "os.makedirs(output_folder, exist_ok = True)\n",
    "\n",
    "pio.write_image(fig, 'Results_graphics/{}.pdf'.format(title))\n",
    "fig.show()"
   ]
  },
  {
   "cell_type": "code",
   "execution_count": null,
   "metadata": {},
   "outputs": [],
   "source": [
    "summary2"
   ]
  },
  {
   "cell_type": "code",
   "execution_count": null,
   "metadata": {},
   "outputs": [],
   "source": [
    "title='Change in electricity generation from Globocica HPP under climate change'\n",
    "\n",
    "fig = px.bar(glob_cc, x='Year', y=['REF', 'CC'], \n",
    "              labels={\"value\": \"GWh\", \"variable\":\"Scenarios\"},\n",
    "             title=title, barmode='group',\n",
    "              facet_col_spacing=0.06, color_discrete_sequence=px.colors.qualitative.T10)\n",
    "\n",
    "#fig.update_layout(yaxis='PJ')\n",
    "#You can change the image extension to *.png if you want or keep it as pdf (for high resolution)\n",
    "output_folder = os.path.join('Results_graphics')\n",
    "os.makedirs(output_folder, exist_ok = True)\n",
    "\n",
    "pio.write_image(fig, 'Results_graphics/{}.pdf'.format(title))\n",
    "fig.show()"
   ]
  },
  {
   "cell_type": "markdown",
   "metadata": {},
   "source": [
    "# Skavica"
   ]
  },
  {
   "cell_type": "code",
   "execution_count": null,
   "metadata": {},
   "outputs": [],
   "source": []
  },
  {
   "cell_type": "code",
   "execution_count": null,
   "metadata": {},
   "outputs": [],
   "source": []
  },
  {
   "cell_type": "markdown",
   "metadata": {},
   "source": [
    "# old graphs"
   ]
  },
  {
   "cell_type": "code",
   "execution_count": null,
   "metadata": {},
   "outputs": [],
   "source": [
    "fig = fier_cc.iplot(x='y',\n",
    "             kind='bar', \n",
    "             barmode='relative',\n",
    "             xTitle='Year',\n",
    "             yTitle='Hydro power generation (GWh)',\n",
    "             color=[color_dict[x] for x in hydro_df.columns if x != 'y'],\n",
    "             title='Difference in hydropower generation (' + 'Climate Change'+ ' - ' + 'Reference'+ ')',\n",
    "             showlegend=True,\n",
    "             asFigure=True)\n",
    "title='Difference in hydropower generation (' + 'Climate Change'+ ' - ' + 'Reference'+ ')'\n",
    "#You can change the image extension to *.png if you want or keep it as pdf (for high resolution)\n",
    "#pio.write_image(fig, '{}.pdf'.format(title))\n",
    "fig.show()"
   ]
  },
  {
   "cell_type": "code",
   "execution_count": null,
   "metadata": {},
   "outputs": [],
   "source": [
    "#Plotting the figure\n",
    "\n",
    "title='Difference in hydropower generation (' + 'Climate Change'+ ' - ' + 'Reference'+ ')'\n",
    "\n",
    "fig = hydro_df2.iplot(x='y',\n",
    "             kind='bar', \n",
    "             barmode='relative',\n",
    "             xTitle='Year',\n",
    "             yTitle='Hydro power generation (PJ)',\n",
    "             #color=[color_dict[x] for x in hydro_df.columns if x != 'y'],\n",
    "             title=title,\n",
    "             showlegend=True,\n",
    "             asFigure=True)\n",
    "\n",
    "#You can change the image extension to *.png if you want or keep it as pdf (for high resolution)\n",
    "#pio.write_image(fig, '{}.pdf'.format(title))\n",
    "fig.show()"
   ]
  },
  {
   "cell_type": "code",
   "execution_count": null,
   "metadata": {},
   "outputs": [],
   "source": [
    "df = unmet_demand_plot(df_energy, 'Year')\n",
    "df = df.loc[df['category']=='Agriculture']\n",
    "reuse = {'Yes': ' with reuse', 'No': '',}\n",
    "df['FullScenario'] = df['Scenario'] + [reuse[i] for i in df['Reuse']]\n",
    "\n",
    "fig = px.line(df, x='Year', y='value', color='FullScenario', #facet_col='Reuse', #facet_row='Reuse',\n",
    "              labels={\"value\": \"Unmet demand (%)\", 'FullScenario': 'Scenario'}, title='Unmet demand in agriculture Souss-Massa',\n",
    "              facet_col_spacing=0.06, color_discrete_sequence=px.colors.qualitative.T10)\n",
    "\n",
    "fig.update_layout(yaxis={'tickformat': \"%\"})\n",
    "fig.show()\n",
    "# fig.write_image('UnmetDemandSoussMassa.pdf', width=900)"
   ]
  },
  {
   "cell_type": "code",
   "execution_count": null,
   "metadata": {},
   "outputs": [],
   "source": []
  },
  {
   "cell_type": "code",
   "execution_count": null,
   "metadata": {},
   "outputs": [],
   "source": []
  },
  {
   "cell_type": "code",
   "execution_count": null,
   "metadata": {},
   "outputs": [],
   "source": []
  }
 ],
 "metadata": {
  "kernelspec": {
   "display_name": "Python 3",
   "language": "python",
   "name": "python3"
  },
  "language_info": {
   "codemirror_mode": {
    "name": "ipython",
    "version": 3
   },
   "file_extension": ".py",
   "mimetype": "text/x-python",
   "name": "python",
   "nbconvert_exporter": "python",
   "pygments_lexer": "ipython3",
   "version": "3.7.10"
  }
 },
 "nbformat": 4,
 "nbformat_minor": 2
}

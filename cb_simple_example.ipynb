{
 "cells": [
  {
   "cell_type": "code",
   "execution_count": null,
   "metadata": {},
   "outputs": [],
   "source": [
    "# Initiating the necessary packages\n",
    "import pandas as pd\n",
    "from plotly import express as ex\n",
    "import os"
   ]
  },
  {
   "cell_type": "markdown",
   "metadata": {},
   "source": [
    "# <span style=\"color:Green\"> Simple energy systems optimization exercise </span>"
   ]
  },
  {
   "cell_type": "markdown",
   "metadata": {},
   "source": [
    "This exercise guides you through the creation of an extremely simple and essential energy model. It consists in one simplified electricity supply chain, with one electricity demand (growing between the years 2019 and 2022), coal power plant capacity to meet that demand, and coal extraction to feed the coal power plants. The chain is represented in the figure.\n",
    "\n",
    "\n",
    "\n",
    "### <span style=\"color:Green\"> Reference Energy System </span>\n",
    "   ![Reference Energy System](CB_osemosys/simple/res_simple.png)\n",
    "\n",
    "\n",
    "This exercise is developed to show you how a model in OSeMOSYS looks like, how it is created step-by-step, and what are the essential technology parameters taken into account in the model. There are many more parameters, but we will not look at them here.\n",
    "\n",
    "\n",
    "\n"
   ]
  },
  {
   "cell_type": "markdown",
   "metadata": {},
   "source": [
    "## Model structure\n",
    "The structure of the model, i.e. the ‘sets’ of technologies and fuels to be considered, and the years and time slices of the analysis, have already been inserted for you. \n",
    "Here, you will insert numerical values for the following parameters:\n",
    "-\tAvailability factor\n",
    "-\tCapacity factor\n",
    "-\tCapacity to Activity ratio\n",
    "-\tCapital cost\n",
    "-\tFixed O&M cost\n",
    "-\tInput to activity ratio\n",
    "-\tOutput to activity ratio\n",
    "-\tOperational life\n",
    "-\tSpecified annual demand\n",
    "-\tSpecified demand profile\n",
    "-\tVariable O&M cost\n"
   ]
  },
  {
   "cell_type": "markdown",
   "metadata": {},
   "source": [
    "## <span style=\"color:Green\"> Click [here](../edit/CB_osemosys/simple/data_empty.txt) to view the empty datafile to edit </span> \n",
    "\n",
    "<div class=\"alert alert-block alert-info\">\n",
    "<b>NOTE:</b> \n",
    "Do not forget to save the changes that you make to the data file.\n",
    "</div>\n"
   ]
  },
  {
   "cell_type": "markdown",
   "metadata": {},
   "source": [
    "### <span style=\"color:black\"> Now, we will run the data file to visualise the results  </span> "
   ]
  },
  {
   "cell_type": "code",
   "execution_count": null,
   "metadata": {},
   "outputs": [],
   "source": [
    "# Running GLPK to solve the model \n",
    "\n",
    "!glpsol -d CB_osemosys/simple/data_empty.txt -m CB_osemosys/osemosys.txt > CB_osemosys/osemosys.log"
   ]
  },
  {
   "cell_type": "markdown",
   "metadata": {},
   "source": [
    "### <span style=\"color:black\"> Click [here](../edit/CB_osemosys/osemosys.log) to look at the osemosys log-file that will help us identify potential errors  </span> "
   ]
  },
  {
   "cell_type": "code",
   "execution_count": null,
   "metadata": {},
   "outputs": [],
   "source": [
    "# Running the visualisation block to view results\n",
    "\n",
    "%run -i CB_osemosys/plotting_simple.py"
   ]
  },
  {
   "cell_type": "code",
   "execution_count": null,
   "metadata": {},
   "outputs": [],
   "source": []
  }
 ],
 "metadata": {
  "kernelspec": {
   "display_name": "Python 3 (ipykernel)",
   "language": "python",
   "name": "python3"
  },
  "language_info": {
   "codemirror_mode": {
    "name": "ipython",
    "version": 3
   },
   "file_extension": ".py",
   "mimetype": "text/x-python",
   "name": "python",
   "nbconvert_exporter": "python",
   "pygments_lexer": "ipython3",
   "version": "3.9.5"
  }
 },
 "nbformat": 4,
 "nbformat_minor": 4
}
